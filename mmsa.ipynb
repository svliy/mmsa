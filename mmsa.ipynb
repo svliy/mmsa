{
 "cells": [
  {
   "cell_type": "markdown",
   "metadata": {},
   "source": [
    "# 导包"
   ]
  },
  {
   "cell_type": "code",
   "execution_count": 1,
   "metadata": {},
   "outputs": [],
   "source": [
    "# Import seaborn\n",
    "import seaborn as sns\n",
    "\n",
    "# Apply the default theme\n",
    "sns.set_theme()\n",
    "import json\n",
    "import torch\n",
    "import pickle\n",
    "from torch import nn\n",
    "import torch.nn.functional as F\n",
    "import matplotlib.pyplot as plt\n",
    "import numpy as np\n",
    "import pandas as pd\n",
    "from config import get_config_regression\n",
    "from easydict import EasyDict as edict"
   ]
  },
  {
   "cell_type": "markdown",
   "metadata": {},
   "source": [
    "# 导入配置文件"
   ]
  },
  {
   "cell_type": "code",
   "execution_count": 127,
   "metadata": {},
   "outputs": [],
   "source": [
    "args = get_config_regression('dmd', 'mosei', '/workspace/projects/mmsa/config/config_regression.json')"
   ]
  },
  {
   "cell_type": "code",
   "execution_count": 128,
   "metadata": {},
   "outputs": [],
   "source": [
    "with open(args.featurePath, 'rb') as f:\n",
    "    data = pickle.load(f)"
   ]
  },
  {
   "cell_type": "code",
   "execution_count": 129,
   "metadata": {},
   "outputs": [
    {
     "data": {
      "text/plain": [
       "dict_keys(['train', 'valid', 'test'])"
      ]
     },
     "execution_count": 129,
     "metadata": {},
     "output_type": "execute_result"
    }
   ],
   "source": [
    "data.keys()"
   ]
  },
  {
   "cell_type": "code",
   "execution_count": 130,
   "metadata": {},
   "outputs": [
    {
     "data": {
      "text/plain": [
       "dict_keys(['raw_text', 'audio', 'vision', 'id', 'text', 'text_bert', 'audio_lengths', 'vision_lengths', 'annotations', 'classification_labels', 'regression_labels'])"
      ]
     },
     "execution_count": 130,
     "metadata": {},
     "output_type": "execute_result"
    }
   ],
   "source": [
    "data['test'].keys()"
   ]
  },
  {
   "cell_type": "code",
   "execution_count": 131,
   "metadata": {},
   "outputs": [],
   "source": [
    "# 获取数据集的label\n",
    "# train_labels = data['train']['regression_labels']\n",
    "# val_labels = data['valid']['regression_labels']\n",
    "# test_labels = data['test']['regression_labels']"
   ]
  },
  {
   "cell_type": "code",
   "execution_count": 132,
   "metadata": {},
   "outputs": [],
   "source": [
    "# train_labels.shape, val_labels.shape, test_labels.shape"
   ]
  },
  {
   "cell_type": "code",
   "execution_count": 133,
   "metadata": {},
   "outputs": [],
   "source": [
    "# def get_label_arr(labels):\n",
    "#     label_arr = np.zeros(7, dtype=np.int64)\n",
    "\n",
    "#     for key in labels:\n",
    "#         label_arr[int(np.round(key)) + 3] += 1\n",
    "\n",
    "#     print(label_arr, f\"sum:{sum(label_arr)}\")\n",
    "#     return label_arr"
   ]
  },
  {
   "cell_type": "code",
   "execution_count": 134,
   "metadata": {},
   "outputs": [],
   "source": [
    "# get_label_arr(train_labels)\n",
    "# get_label_arr(val_labels)\n",
    "# get_label_arr(test_labels)"
   ]
  },
  {
   "cell_type": "code",
   "execution_count": 135,
   "metadata": {},
   "outputs": [],
   "source": [
    "# get_label_arr(train_labels) + get_label_arr(val_labels) + get_label_arr(test_labels)"
   ]
  },
  {
   "cell_type": "code",
   "execution_count": 136,
   "metadata": {},
   "outputs": [
    {
     "data": {
      "text/plain": [
       "((16326, 50, 768), (16326, 500, 35), (16326, 500, 35))"
      ]
     },
     "execution_count": 136,
     "metadata": {},
     "output_type": "execute_result"
    }
   ],
   "source": [
    "data['train']['text'].shape, data['train']['vision'].shape, data['train']['vision'].shape"
   ]
  },
  {
   "cell_type": "code",
   "execution_count": 137,
   "metadata": {},
   "outputs": [
    {
     "data": {
      "text/plain": [
       "(\"I think first it's important for individuals Who are in a relationship or in a marriage to acknowledged to themselves what really are their financial goals\",\n",
       " 1.0)"
      ]
     },
     "execution_count": 137,
     "metadata": {},
     "output_type": "execute_result"
    }
   ],
   "source": [
    "id = 35\n",
    "data['test']['raw_text'][id], data['test']['regression_labels'][id]"
   ]
  },
  {
   "cell_type": "code",
   "execution_count": 138,
   "metadata": {},
   "outputs": [
    {
     "data": {
      "text/plain": [
       "array([\"Key is part of the people that we use to solve those issues, whether it's stretch or outdoor resistance or abrasions or different technical aspects that we really need to solve to get into new markets, they've been able to bring solutions.\",\n",
       "       \"They've been able to find solutions or at least bring some answers to the table.\",\n",
       "       \"We're a huge user of adhesives for our operation, called flocking, and we don't have the technical inside compounding or the technical expertise to do these types of things.\",\n",
       "       ...,\n",
       "       \"Now, if this sounds like something you're interested in, all you need to do, down there in the description, type in your email, hit the send button, and then you're going to get a little roundup of all of this straight into your inbox\",\n",
       "       'I actually speak to the experts myself to give you the best value you can get',\n",
       "       'And we’ve seen some programs, we’ve seen programs in Google where-- using micro marketing techniques so that I can be-- if I’m inquiring about whole grain cereal, that a message will pop up that let’s me realize that there’s whole grain cereal on special at a store within a quarter mile of my house.'],\n",
       "      dtype='<U1662')"
      ]
     },
     "execution_count": 138,
     "metadata": {},
     "output_type": "execute_result"
    }
   ],
   "source": [
    "data['train']['raw_text']"
   ]
  },
  {
   "cell_type": "code",
   "execution_count": 145,
   "metadata": {},
   "outputs": [
    {
     "name": "stdout",
     "output_type": "stream",
     "text": [
      "6206\n"
     ]
    }
   ],
   "source": [
    "# 检测 id 和 raw-text 是否对应\n",
    "index = 0\n",
    "for id in data['train']['id']:\n",
    "    if id == '7ZzbemE4QEE$_$27':\n",
    "        break\n",
    "    index += 1\n",
    "print(index)"
   ]
  },
  {
   "cell_type": "code",
   "execution_count": 146,
   "metadata": {},
   "outputs": [
    {
     "data": {
      "text/plain": [
       "('Getting a cash offer is what we do here at JM Equity Recovery LLC',\n",
       " 0.3333333432674408)"
      ]
     },
     "execution_count": 146,
     "metadata": {},
     "output_type": "execute_result"
    }
   ],
   "source": [
    "data['train']['raw_text'][index], data['train']['regression_labels'][index]"
   ]
  },
  {
   "cell_type": "markdown",
   "metadata": {},
   "source": [
    "# 可视化单个模态的字典激活分布区域"
   ]
  },
  {
   "cell_type": "code",
   "execution_count": null,
   "metadata": {},
   "outputs": [],
   "source": [
    "l_att_weight = np.load('/workspace/projects/mmsa/visualization/l_att_weight_list.npy', allow_pickle=True)\n",
    "v_att_weight = np.load('/workspace/projects/mmsa/visualization/v_att_weight_list.npy', allow_pickle=True)\n",
    "a_att_weight = np.load('/workspace/projects/mmsa/visualization/a_att_weight_list.npy', allow_pickle=True)"
   ]
  },
  {
   "cell_type": "code",
   "execution_count": null,
   "metadata": {},
   "outputs": [],
   "source": [
    "def get_data(att_weight):\n",
    "    tmp = []\n",
    "    for x in att_weight:\n",
    "        tmp.append(x.tolist()[0])\n",
    "    return tmp"
   ]
  },
  {
   "cell_type": "code",
   "execution_count": null,
   "metadata": {},
   "outputs": [],
   "source": [
    "l_tmp, v_tmp, a_tmp = get_data(l_att_weight), get_data(v_att_weight), get_data(a_att_weight)"
   ]
  },
  {
   "cell_type": "code",
   "execution_count": null,
   "metadata": {},
   "outputs": [],
   "source": [
    "def get_element_counts(arr):\n",
    "    from collections import Counter\n",
    "\n",
    "    # 将二维数组转换成一维数组\n",
    "    flat_arr = [item for sublist in arr for item in sublist]\n",
    "\n",
    "    # 使用 Counter 统计元素出现的次数\n",
    "    element_counts = Counter(flat_arr)\n",
    "\n",
    "    # 打印统计结果\n",
    "    # print(\"元素出现的次数：\", element_counts)\n",
    "    return element_counts"
   ]
  },
  {
   "cell_type": "code",
   "execution_count": null,
   "metadata": {},
   "outputs": [],
   "source": [
    "# l_element_counts = get_element_counts(l_tmp)\n",
    "# v_element_counts = get_element_counts(v_tmp)\n",
    "# a_element_counts = get_element_counts(a_tmp)\n",
    "\n",
    "# pos_element_counts = get_element_counts(pos_tmp)\n",
    "# neg_element_counts = get_element_counts(neg_tmp)\n",
    "\n",
    "# lva_element_counts = get_element_counts(lva_tmp)"
   ]
  },
  {
   "cell_type": "code",
   "execution_count": null,
   "metadata": {},
   "outputs": [],
   "source": [
    "# 遍历 Counter 对象的键值对\n",
    "# for token, count in lva_element_counts.items():\n",
    "#     print(f\"Token: {token}, Count: {count}\")"
   ]
  },
  {
   "cell_type": "code",
   "execution_count": null,
   "metadata": {},
   "outputs": [],
   "source": [
    "import matplotlib.pyplot as plt\n",
    "\n",
    "# # 过滤掉元素 0\n",
    "# l_filtered_element_counts = {element: count for element, count in l_element_counts.items() if element != 0}\n",
    "\n",
    "# # 提取过滤后的元素和出现次数\n",
    "# l_elements = list(l_filtered_element_counts.keys())\n",
    "# l_counts = list(l_filtered_element_counts.values())\n",
    "\n",
    "# # same for vision\n",
    "# v_filtered_element_counts = {element: count for element, count in v_element_counts.items() if element != 0}\n",
    "# v_elements = list(v_filtered_element_counts.keys())\n",
    "# v_counts = list(v_filtered_element_counts.values())\n",
    "\n",
    "# # same for audio\n",
    "# a_filtered_element_counts = {element: count for element, count in a_element_counts.items() if element != 0}\n",
    "# a_elements = list(a_filtered_element_counts.keys())\n",
    "# a_counts = list(a_filtered_element_counts.values())\n",
    "\n",
    "# # same for pos\n",
    "# pos_filtered_element_counts = {element: count for element, count in pos_element_counts.items() if element != 0}\n",
    "# pos_elements = list(pos_filtered_element_counts.keys())\n",
    "# pos_counts = list(pos_filtered_element_counts.values())\n",
    "\n",
    "# same for neg\n",
    "# neg_filtered_element_counts = {element: count for element, count in neg_element_counts.items() if element != 0}\n",
    "# neg_elements = list(neg_filtered_element_counts.keys())\n",
    "# neg_counts = list(neg_filtered_element_counts.values())\n",
    "\n",
    "# 绘制直方图，设置小长方形边缘颜色为蓝色\n",
    "# plt.bar(pos_elements, pos_counts, edgecolor='blue')\n",
    "# plt.bar(neg_elements, neg_counts, edgecolor='blue')\n",
    "\n",
    "\n",
    "# # 添加标题和标签（转换为英文）\n",
    "# plt.title('Histogram of Element Occurrences (Excluding Element 0)')\n",
    "# plt.xlabel('Element')\n",
    "# plt.ylabel('Occurrences')\n",
    "\n",
    "# # 显示图形\n",
    "# plt.show()"
   ]
  },
  {
   "cell_type": "code",
   "execution_count": null,
   "metadata": {},
   "outputs": [],
   "source": [
    "# len(l_elements), len(v_elements), len(a_elements)"
   ]
  },
  {
   "cell_type": "markdown",
   "metadata": {},
   "source": [
    "# 字典 `token` 在迭代过程中的变化情况"
   ]
  },
  {
   "cell_type": "code",
   "execution_count": 7,
   "metadata": {},
   "outputs": [],
   "source": [
    "epoch_index = 1 # 设置 epoch (1-?)\n",
    "token_index = 0 # 设置 字典token (0-511)\n",
    "\n",
    "# train_folder = 'May12_00-59-04_ea6f534ea7b8mosei'\n",
    "# train_folder = 'May13_21-58-40_ea6f534ea7b8mosei'\n",
    "train_folder = 'May14_06-23-11_ea6f534ea7b8mosei'"
   ]
  },
  {
   "cell_type": "markdown",
   "metadata": {},
   "source": [
    "## 单个 `epoch` 内字典 `token` 的变化过程"
   ]
  },
  {
   "cell_type": "markdown",
   "metadata": {},
   "source": [
    "### 单个字典 token"
   ]
  },
  {
   "cell_type": "code",
   "execution_count": 8,
   "metadata": {},
   "outputs": [],
   "source": [
    "# 导入数据\n",
    "dict_table = np.load(f'/workspace/projects/mmsa/visualization/{train_folder}/dict_table_{epoch_index}.npy', allow_pickle=True)"
   ]
  },
  {
   "cell_type": "code",
   "execution_count": 9,
   "metadata": {},
   "outputs": [
    {
     "name": "stdout",
     "output_type": "stream",
     "text": [
      "The shape of dict_table is: (1021, 512, 100)\n",
      "The type of dict_table is: <class 'numpy.ndarray'>\n"
     ]
    }
   ],
   "source": [
    "# 维度信息分别表示：迭代次数，字典大小，字典token的维度大小\n",
    "print(f\"The shape of dict_table is: {dict_table.shape}\")\n",
    "print(f\"The type of dict_table is: {type(dict_table)}\")"
   ]
  },
  {
   "cell_type": "code",
   "execution_count": 10,
   "metadata": {},
   "outputs": [
    {
     "data": {
      "text/plain": [
       "(1021, 512)"
      ]
     },
     "execution_count": 10,
     "metadata": {},
     "output_type": "execute_result"
    }
   ],
   "source": [
    "np.sum(dict_table, axis=2).shape"
   ]
  },
  {
   "cell_type": "code",
   "execution_count": 11,
   "metadata": {},
   "outputs": [],
   "source": [
    "dict_table = np.sum(dict_table, axis=2) / 100"
   ]
  },
  {
   "cell_type": "code",
   "execution_count": 12,
   "metadata": {},
   "outputs": [
    {
     "data": {
      "text/plain": [
       "(1021, 512)"
      ]
     },
     "execution_count": 12,
     "metadata": {},
     "output_type": "execute_result"
    }
   ],
   "source": [
    "dict_table.shape"
   ]
  },
  {
   "cell_type": "code",
   "execution_count": 19,
   "metadata": {},
   "outputs": [
    {
     "data": {
      "text/plain": [
       "Text(0.5, 32.249999999999986, 'Number of Iterations')"
      ]
     },
     "execution_count": 19,
     "metadata": {},
     "output_type": "execute_result"
    },
    {
     "data": {
      "image/png": "[encoded data removed]",
      "text/plain": [
       "<Figure size 600x600 with 2 Axes>"
      ]
     },
     "metadata": {},
     "output_type": "display_data"
    }
   ],
   "source": [
    "# 设置中文字体\n",
    "plt.figure(figsize=(6, 6))\n",
    "sns.heatmap(dict_table.T, cmap=\"viridis\")\n",
    "\n",
    "plt.xlabel('Number of Iterations')"
   ]
  },
  {
   "cell_type": "markdown",
   "metadata": {},
   "source": [
    "## 多个 epoch 内字典 `token` 的变化情况"
   ]
  },
  {
   "cell_type": "code",
   "execution_count": 20,
   "metadata": {},
   "outputs": [],
   "source": [
    "epoch_start = 1 # 设置 epoch (1-?)\n",
    "epoch_end = 31 # 设置 字典token (0-511)\n",
    "\n",
    "# train_folder = 'May12_00-59-04_ea6f534ea7b8mosei'\n",
    "# train_folder = 'May13_21-58-40_ea6f534ea7b8mosei'\n",
    "train_folder = 'May14_06-23-11_ea6f534ea7b8mosei'\n",
    "\n",
    "dict_table_all = np.load(f'/workspace/projects/mmsa/visualization/{train_folder}/dict_table_{epoch_start}.npy', allow_pickle=True)[:, :, :]\n",
    "\n",
    "for index in range(2, epoch_end + 1):\n",
    "    dict_table_tmp = np.load(f'/workspace/projects/mmsa/visualization/{train_folder}/dict_table_{index}.npy', allow_pickle=True)\n",
    "    # print(dict_table_tmp[:, 0, :].shape)\n",
    "    # print(dict_table_all[:, 0, :].shape)\n",
    "    dict_table_all = np.concatenate((dict_table_all, dict_table_tmp[:, :, :]), axis=0)"
   ]
  },
  {
   "cell_type": "code",
   "execution_count": 21,
   "metadata": {},
   "outputs": [
    {
     "data": {
      "text/plain": [
       "(31651, 512, 100)"
      ]
     },
     "execution_count": 21,
     "metadata": {},
     "output_type": "execute_result"
    }
   ],
   "source": [
    "dict_table_all.shape"
   ]
  },
  {
   "cell_type": "code",
   "execution_count": 22,
   "metadata": {},
   "outputs": [],
   "source": [
    "dict_table_all = np.sum(dict_table_all, axis=2) / 100"
   ]
  },
  {
   "cell_type": "code",
   "execution_count": 23,
   "metadata": {},
   "outputs": [
    {
     "data": {
      "text/plain": [
       "(31651, 512)"
      ]
     },
     "execution_count": 23,
     "metadata": {},
     "output_type": "execute_result"
    }
   ],
   "source": [
    "dict_table_all.shape"
   ]
  },
  {
   "cell_type": "code",
   "execution_count": 24,
   "metadata": {},
   "outputs": [],
   "source": [
    "# 每10次迭代更新1次\n",
    "dict_table_all = dict_table_all[::10,:]"
   ]
  },
  {
   "cell_type": "code",
   "execution_count": 25,
   "metadata": {},
   "outputs": [],
   "source": [
    "dict_table_all = dict_table_all.T"
   ]
  },
  {
   "cell_type": "code",
   "execution_count": 26,
   "metadata": {},
   "outputs": [
    {
     "data": {
      "text/plain": [
       "(512, 3166)"
      ]
     },
     "execution_count": 26,
     "metadata": {},
     "output_type": "execute_result"
    }
   ],
   "source": [
    "dict_table_all.shape"
   ]
  },
  {
   "cell_type": "code",
   "execution_count": 27,
   "metadata": {},
   "outputs": [
    {
     "data": {
      "text/plain": [
       "numpy.ndarray"
      ]
     },
     "execution_count": 27,
     "metadata": {},
     "output_type": "execute_result"
    }
   ],
   "source": [
    "type(dict_table_all)"
   ]
  },
  {
   "cell_type": "code",
   "execution_count": 28,
   "metadata": {},
   "outputs": [],
   "source": [
    "# save the file to csv file\n",
    "df = pd.DataFrame(dict_table_all.T)"
   ]
  },
  {
   "cell_type": "code",
   "execution_count": 29,
   "metadata": {},
   "outputs": [],
   "source": [
    "df.to_csv(f'/workspace/projects/mmsa/visualization/{train_folder}/dict_by_iter.csv')"
   ]
  },
  {
   "cell_type": "code",
   "execution_count": 219,
   "metadata": {},
   "outputs": [
    {
     "data": {
      "text/plain": [
       "Text(0.5, 32.249999999999986, 'Number of Iterations')"
      ]
     },
     "execution_count": 219,
     "metadata": {},
     "output_type": "execute_result"
    },
    {
     "data": {
      "image/png": "[encoded data removed]",
      "text/plain": [
       "<Figure size 1200x600 with 2 Axes>"
      ]
     },
     "metadata": {},
     "output_type": "display_data"
    }
   ],
   "source": [
    "# 设置中文字体\n",
    "plt.figure(figsize=(12, 6))\n",
    "sns.heatmap(dict_table_all.T, cmap=\"viridis\")\n",
    "\n",
    "plt.xlabel('Number of Iterations')"
   ]
  },
  {
   "cell_type": "markdown",
   "metadata": {},
   "source": [
    "# 查看相同类别下三种模态的激活的公共字典 token"
   ]
  },
  {
   "cell_type": "code",
   "execution_count": 250,
   "metadata": {},
   "outputs": [],
   "source": [
    "# 设置训练文件名\n",
    "train_name = 'May12_00-59-04_ea6f534ea7b8mosei'\n",
    "# train_name = 'May13_21-58-40_ea6f534ea7b8mosei'\n",
    "# train_name = 'May14_06-23-11_ea6f534ea7b8mosei'"
   ]
  },
  {
   "cell_type": "code",
   "execution_count": 251,
   "metadata": {},
   "outputs": [],
   "source": [
    "# 标签\n",
    "train_labels = np.load(f'/workspace/projects/mmsa/visualization/{train_name}/label_list.npy', allow_pickle=True)\n",
    "# id\n",
    "id_list = np.load(f'/workspace/projects/mmsa/visualization/{train_name}/ids_list.npy', allow_pickle=True)\n",
    "# 原始文本\n",
    "raw_text_list = np.load(f'/workspace/projects/mmsa/visualization/{train_name}/raw_text_list.npy', allow_pickle=True)\n",
    "# 三种模态激活的字典token\n",
    "lva_att_weight_train = np.load(f'/workspace/projects/mmsa/visualization/{train_name}/lva_att_weight_train.npy', allow_pickle=True)"
   ]
  },
  {
   "cell_type": "code",
   "execution_count": 252,
   "metadata": {},
   "outputs": [],
   "source": [
    "# 转换成1维数组\n",
    "train_labels = np.concatenate(train_labels, axis=0)[:,0]\n",
    "id_list = np.concatenate(id_list, axis=0)\n",
    "raw_text_list = np.concatenate(raw_text_list, axis=0)"
   ]
  },
  {
   "cell_type": "code",
   "execution_count": 253,
   "metadata": {},
   "outputs": [
    {
     "data": {
      "text/plain": [
       "((16326,), (16326,), (16326,))"
      ]
     },
     "execution_count": 253,
     "metadata": {},
     "output_type": "execute_result"
    }
   ],
   "source": [
    "# 总的训练集样本数量\n",
    "train_labels.shape, id_list.shape, raw_text_list.shape"
   ]
  },
  {
   "cell_type": "code",
   "execution_count": 254,
   "metadata": {},
   "outputs": [
    {
     "name": "stdout",
     "output_type": "stream",
     "text": [
      "转换前： [2.         1.3333334  0.6666667  ... 1.6666666  1.6666666  0.33333334]\n",
      "转换后： [2. 1. 1. ... 2. 2. 0.]\n"
     ]
    }
   ],
   "source": [
    "# label 转换\n",
    "print(\"转换前：\", train_labels)\n",
    "train_labels = np.round(train_labels)\n",
    "print(\"转换后：\", train_labels)"
   ]
  },
  {
   "cell_type": "code",
   "execution_count": 255,
   "metadata": {},
   "outputs": [
    {
     "data": {
      "text/plain": [
       "{-3.0, -2.0, -1.0, 0.0, 1.0, 2.0, 3.0}"
      ]
     },
     "execution_count": 255,
     "metadata": {},
     "output_type": "execute_result"
    }
   ],
   "source": [
    "set(train_labels)"
   ]
  },
  {
   "cell_type": "code",
   "execution_count": 256,
   "metadata": {},
   "outputs": [
    {
     "data": {
      "text/plain": [
       "(1021,)"
      ]
     },
     "execution_count": 256,
     "metadata": {},
     "output_type": "execute_result"
    }
   ],
   "source": [
    "lva_att_weight_train.shape"
   ]
  },
  {
   "cell_type": "code",
   "execution_count": 257,
   "metadata": {},
   "outputs": [
    {
     "data": {
      "text/plain": [
       "(48, 512)"
      ]
     },
     "execution_count": 257,
     "metadata": {},
     "output_type": "execute_result"
    }
   ],
   "source": [
    "# 每个元素表示一个batch的数据，0-15表示语言模态的数据，16-31表示视觉模态的数据，32-47表示音频模态的数据\n",
    "lva_att_weight_train[0].shape"
   ]
  },
  {
   "cell_type": "code",
   "execution_count": 258,
   "metadata": {},
   "outputs": [
    {
     "data": {
      "text/plain": [
       "(18, 512)"
      ]
     },
     "execution_count": 258,
     "metadata": {},
     "output_type": "execute_result"
    }
   ],
   "source": [
    "# 最后一个不是18\n",
    "lva_att_weight_train[-1].shape"
   ]
  },
  {
   "cell_type": "code",
   "execution_count": 259,
   "metadata": {},
   "outputs": [],
   "source": [
    "# 从 lva_att_weight_train 获取三种模态的数据\n",
    "l_att_weight = []\n",
    "v_att_weight = []\n",
    "a_att_weight = []\n",
    "\n",
    "for lva_att_weight in lva_att_weight_train:\n",
    "    num = len(lva_att_weight) // 3\n",
    "    l_att_weight.append(lva_att_weight[: num])\n",
    "    v_att_weight.append(lva_att_weight[num : 2*num])\n",
    "    a_att_weight.append(lva_att_weight[2*num :])\n",
    "    \n",
    "\n",
    "l_att_weight = np.concatenate(l_att_weight)\n",
    "v_att_weight = np.concatenate(v_att_weight)\n",
    "a_att_weight = np.concatenate(a_att_weight)"
   ]
  },
  {
   "cell_type": "code",
   "execution_count": 260,
   "metadata": {},
   "outputs": [
    {
     "data": {
      "text/plain": [
       "((16326, 512), (16326, 512), (16326, 512))"
      ]
     },
     "execution_count": 260,
     "metadata": {},
     "output_type": "execute_result"
    }
   ],
   "source": [
    "l_att_weight.shape, v_att_weight.shape, a_att_weight.shape"
   ]
  },
  {
   "cell_type": "code",
   "execution_count": 261,
   "metadata": {},
   "outputs": [],
   "source": [
    "# 处理数据为第 1 维为 16326 数组，方便后续处理"
   ]
  },
  {
   "cell_type": "code",
   "execution_count": 262,
   "metadata": {},
   "outputs": [],
   "source": [
    "# 7 分类\n",
    "class_1 = [] # -3\n",
    "class_2 = []\n",
    "class_3 = []\n",
    "class_4 = []\n",
    "class_5 = []\n",
    "class_6 = []\n",
    "class_7 = []\n",
    "\n",
    "# 2 分类\n",
    "class_pos = []\n",
    "class_neg = []\n",
    "class_zero = []\n",
    "\n",
    "# 单分类\n",
    "class_all = []"
   ]
  },
  {
   "cell_type": "markdown",
   "metadata": {},
   "source": [
    "## 分类"
   ]
  },
  {
   "cell_type": "code",
   "execution_count": 263,
   "metadata": {},
   "outputs": [],
   "source": [
    "for data_l, data_v, data_a, label, id, raw_text in zip(l_att_weight, v_att_weight, a_att_weight, train_labels, id_list, raw_text_list):\n",
    "    # print(data_l.shape, data_v.shape, data_a.shape, label)\n",
    "    data_all = [data_l, data_v, data_a, label, id, raw_text]\n",
    "    class_all.append(data_all)\n",
    "    if label == -3:\n",
    "        class_1.append(data_all)\n",
    "    elif label == -2:\n",
    "        class_2.append(data_all)\n",
    "    elif label == -1:\n",
    "        class_3.append(data_all)\n",
    "    elif label == 0:\n",
    "        class_4.append(data_all)\n",
    "    elif label == 1:\n",
    "        class_5.append(data_all)\n",
    "    elif label == 2:\n",
    "        class_6.append(data_all)\n",
    "    elif label == 3:\n",
    "        class_7.append(data_all)\n",
    "    \n",
    "    if label > 0:\n",
    "        class_pos.append(data_all)\n",
    "    elif label == 0:\n",
    "        class_zero.append(data_all)\n",
    "    elif label < 0:\n",
    "        class_neg.append(data_all)"
   ]
  },
  {
   "cell_type": "code",
   "execution_count": 264,
   "metadata": {},
   "outputs": [
    {
     "data": {
      "text/plain": [
       "(311, 1305, 2039, 6798, 4117, 1549, 207)"
      ]
     },
     "execution_count": 264,
     "metadata": {},
     "output_type": "execute_result"
    }
   ],
   "source": [
    "# 7 分类\n",
    "len(class_1), len(class_2), len(class_3), len(class_4), len(class_5), len(class_6), len(class_7)"
   ]
  },
  {
   "cell_type": "code",
   "execution_count": 265,
   "metadata": {},
   "outputs": [
    {
     "data": {
      "text/plain": [
       "(5873, 6798, 3655)"
      ]
     },
     "execution_count": 265,
     "metadata": {},
     "output_type": "execute_result"
    }
   ],
   "source": [
    "# 2 分类\n",
    "len(class_pos), len(class_zero), len(class_neg)"
   ]
  },
  {
   "cell_type": "code",
   "execution_count": 266,
   "metadata": {},
   "outputs": [
    {
     "data": {
      "text/plain": [
       "16326"
      ]
     },
     "execution_count": 266,
     "metadata": {},
     "output_type": "execute_result"
    }
   ],
   "source": [
    "# 单个类被\n",
    "len(class_all)"
   ]
  },
  {
   "cell_type": "code",
   "execution_count": 267,
   "metadata": {},
   "outputs": [],
   "source": [
    "def random_select_sample(class_name, num):\n",
    "    \n",
    "    data_l, data_v, data_a, data_label, id, raw_text = class_name[num]\n",
    "    # 查看标签\n",
    "    # print(f\"标签：{pos_label}\")\n",
    "    # # 查看语言模态 L 激活的字典token\n",
    "    # print(f\"语言模态({len(np.nonzero(pos_l)[0])}):\",np.nonzero(pos_l)[0])\n",
    "    # # 查看视觉模态 V 激活的字典token\n",
    "    # print(f\"视觉模态({len(np.nonzero(pos_v)[0])}):\",np.nonzero(pos_v)[0])\n",
    "    # # 查看音频模态 A 激活的字典token\n",
    "    # print(f\"音频模态({len(np.nonzero(pos_a)[0])}):\",np.nonzero(pos_a)[0])\n",
    "    # 查看3个模态的激活的公共字典token\n",
    "    print(f\"ID：{id}; 标签：{data_label}; 文本：{raw_text}\")\n",
    "    intersection = np.intersect1d(np.nonzero(data_l)[0], np.nonzero(data_v)[0])\n",
    "    intersection = np.intersect1d(intersection, np.nonzero(data_a)[0])\n",
    "    print(f\"公共相应模态({len(intersection)}):\",intersection + 1) # 处理下标为 0 的情况"
   ]
  },
  {
   "cell_type": "code",
   "execution_count": 268,
   "metadata": {},
   "outputs": [
    {
     "data": {
      "text/plain": [
       "(array([0, 1, 3]),)"
      ]
     },
     "execution_count": 268,
     "metadata": {},
     "output_type": "execute_result"
    }
   ],
   "source": [
    "# intersection + 1的愿意\n",
    "np.nonzero(np.array([1, 1, 0, 1, 0]))"
   ]
  },
  {
   "cell_type": "code",
   "execution_count": 269,
   "metadata": {},
   "outputs": [
    {
     "name": "stdout",
     "output_type": "stream",
     "text": [
      "ID：266396$_$39; 标签：-3.0; 文本：Zooey (stutter) Deschanel, just stop\n",
      "公共相应模态(7): [ 16  23 172 189 210 327 504]\n"
     ]
    }
   ],
   "source": [
    "# 随机选择 1 个样本\n",
    "# random_select_sample(class_pos, 200)\n",
    "# random_select_sample(class_zero, 2000) \n",
    "random_select_sample(class_1, 200) # 2056"
   ]
  },
  {
   "cell_type": "code",
   "execution_count": 436,
   "metadata": {},
   "outputs": [
    {
     "name": "stdout",
     "output_type": "stream",
     "text": [
      "第0个样本：\n",
      "ID：83859$_$3; 标签：3.0; 文本：I believe it's one of the best, if not the best, cops-and-robbers good guy-bad buy film of all time\n",
      "公共相应模态(7): [ 95 169 198 330 390 459 484]\n",
      "第1个样本：\n",
      "ID：HXuRR2eBHHQ$_$2; 标签：3.0; 文本：I'm the author of The Traveler's Gift and The Noticer, and I am really looking forward to being with you guys in Cleveland this summer.\n",
      "公共相应模态(6): [ 95 169 330 390 459 484]\n",
      "第2个样本：\n",
      "ID：60037$_$2; 标签：3.0; 文本：This is one of my favorite movies\n",
      "公共相应模态(7): [ 20  95 169 330 390 459 484]\n",
      "第3个样本：\n",
      "ID：gjEYmdWrBLM$_$28; 标签：3.0; 文本：I hope you have a great rest of the day if you're watching this in the morning\n",
      "公共相应模态(8): [ 95 169 198 330 390 399 459 484]\n",
      "第4个样本：\n",
      "ID：266396$_$7; 标签：3.0; 文本：I mean, I loved his first three films\n",
      "公共相应模态(7): [ 20  95 169 330 390 459 484]\n",
      "第5个样本：\n",
      "ID：6-0bcijTR8k$_$0; 标签：3.0; 文本：Hi there, today I have a very special announcement namely, I'll be attending the Origami USA convention this year, It's going to take place at Manhattan College in Riverdale, NY from June 19 to June 22, 2015 and I'm super, super excited It's extra special because it's the first convention that I'll be attending outside of Europe so I look forward to seeing a lot of people that I haven't met before perhaps you, too and something special too about this convention is that I will be a special guest so I was invited which is a huge, huge honor for me and I'll be teaching lots of workshops and I'll also be joined by Hoang Tien Quyet as the other special guest and he's such an awesome artist I really look forward to meeting him too If you don't know his work yet, he has a Flickr stream and he also has a new YouTube channel so do check that out He has a very artistic way of designing models and it's absolutely gorgeous and beautiful So that's really nice, too\n",
      "公共相应模态(9): [ 95 198 222 284 330 390 399 459 464]\n",
      "第6个样本：\n",
      "ID：dsob2MgUPpA$_$7; 标签：3.0; 文本：And there's just such a joy in\n",
      "公共相应模态(6): [ 95 169 330 390 459 484]\n",
      "第7个样本：\n",
      "ID：30763$_$4; 标签：3.0; 文本：This is my favorite romantic comedy of all time\n",
      "公共相应模态(7): [ 20  95 169 330 390 459 484]\n",
      "第8个样本：\n",
      "ID：d38u9n5GOLM$_$4; 标签：3.0; 文本：And to say thank you for helping me reach this awesome goal, I will be doing a few things.\n",
      "公共相应模态(6): [ 95 169 330 390 459 484]\n",
      "第9个样本：\n",
      "ID：PYylJk8R9Ak$_$0; 标签：3.0; 文本：Personal Capital is a great investment tool that you should consider.\n",
      "公共相应模态(8): [ 95 169 198 330 390 399 459 484]\n",
      "第10个样本：\n",
      "ID：234053$_$26; 标签：3.0; 文本：Do not forget those words\n",
      "公共相应模态(9): [ 20  95 169 198 330 390 399 459 484]\n",
      "第11个样本：\n",
      "ID：275620$_$3; 标签：3.0; 文本：(uhh) The fourth movie is is (stutter) known for being a very funny movie which I completely agree with\n",
      "公共相应模态(10): [ 20  95 169 198 222 330 390 399 459 484]\n",
      "第12个样本：\n",
      "ID：JF-5nlUNx_g$_$22; 标签：3.0; 文本：So in any event, we hope we're going to create something wonderful for you\n",
      "公共相应模态(9): [ 95 169 198 222 330 390 399 459 484]\n",
      "第13个样本：\n",
      "ID：327283$_$7; 标签：3.0; 文本：My mind was like completely blown with the, with the movie, with the twists, with everything\n",
      "公共相应模态(6): [ 20  95 330 390 459 484]\n",
      "第14个样本：\n",
      "ID：avW2m6VHTyg$_$4; 标签：3.0; 文本：And I cannot begin to tell you how extraordinary this man was.\n",
      "公共相应模态(6): [ 95 169 330 390 459 484]\n",
      "第15个样本：\n",
      "ID：HXuRR2eBHHQ$_$11; 标签：3.0; 文本：I'm so excited to shake hands with your founders, and to see everybody, and we're gonna have a great time together there.\n",
      "公共相应模态(7): [ 95 169 198 330 390 459 484]\n",
      "第16个样本：\n",
      "ID：G8p4QMjLUXI$_$9; 标签：3.0; 文本：Number two: It's so easy, when you're feeling awkward, to talk about how you're feeling awkward\n",
      "公共相应模态(10): [ 95 169 198 222 330 390 399 459 484 502]\n",
      "第17个样本：\n",
      "ID：256935$_$3; 标签：3.0; 文本：Both those movies were excellent and I think ninety-nine percent of the population will agree with you on that\n",
      "公共相应模态(6): [ 95 169 330 390 459 484]\n",
      "第18个样本：\n",
      "ID：EpadyoYlAjQ$_$5; 标签：3.0; 文本：As you know, Escuela does great work in helping kids overcome poverty and other life threatening situations\n",
      "公共相应模态(7): [ 95 169 198 330 390 459 484]\n",
      "第19个样本：\n",
      "ID：mgovo8VYtvk$_$28; 标签：3.0; 文本：” I love the idea that reading ability is both inherent and acquired\n",
      "公共相应模态(6): [ 95 169 330 390 459 484]\n",
      "第20个样本：\n",
      "ID：327283$_$5; 标签：3.0; 文本：And I just, I'm very glad that this is what my friends chose to see\n",
      "公共相应模态(10): [ 20  95 169 198 222 330 390 399 459 484]\n",
      "第21个样本：\n",
      "ID：SI39azgVUR8$_$7; 标签：3.0; 文本：Because I have lost all my unwanted weight, in such a brief amount of time, I could not believe it!\n",
      "公共相应模态(6): [ 95 169 330 390 459 484]\n",
      "第22个样本：\n",
      "ID：245243$_$2; 标签：3.0; 文本：(umm) Somehow they found a way to make each new iteration of the day (uhh) different, fresh and it never gets boring in fact (uhh) as you go on you wait more and more to see (uhh) the familiar scenes play out in a different way and that's a lot of that credit goes to the script a lot of that credit goes to Bill Murray (uhh) and Andie Macdowell for keeping things fun\n",
      "公共相应模态(6): [ 95 169 330 390 459 484]\n",
      "第23个样本：\n",
      "ID：3y2YInNUmHY$_$1; 标签：3.0; 文本：Nick Politylo, Advertising Manager, Hoyts Cinema Advertising: I approached Gina originally to help with some marketing material and I can see why people love working with her.\n",
      "公共相应模态(6): [ 95 169 330 390 459 484]\n",
      "第24个样本：\n",
      "ID：7SsmaZZ7mz0$_$2; 标签：3.0; 文本：Also if you're an investor you can invest and also make some money off the site.\n",
      "公共相应模态(12): [ 95 169 171 198 222 284 330 390 399 464 484 502]\n",
      "第25个样本：\n",
      "ID：HxyfY7hsjOg$_$3; 标签：3.0; 文本：-Exactly -And now we have finished our squirrely fall treat\n",
      "公共相应模态(8): [ 95 169 198 330 390 399 459 484]\n",
      "第26个样本：\n",
      "ID：83859$_$16; 标签：3.0; 文本：This is one of my all-time favorite movies\n",
      "公共相应模态(7): [ 20  95 169 330 390 459 484]\n",
      "第27个样本：\n",
      "ID：UK_IXtJ2BqI$_$15; 标签：3.0; 文本：My return on investment will be incredible\n",
      "公共相应模态(7): [ 20  95 169 330 390 459 484]\n",
      "第28个样本：\n",
      "ID：qYJtbgLqizk$_$1; 标签：3.0; 文本：The Revision Vitamin C Lotion 30% is a lightweight, water-based, oil-free lotion that assists in firming and brightening the skin.\n",
      "公共相应模态(8): [ 20  95 169 198 330 390 459 484]\n",
      "第29个样本：\n",
      "ID：jcQi90n008o$_$22; 标签：3.0; 文本：We have some outstanding efforts from our kids\n",
      "公共相应模态(6): [ 95 169 330 390 459 484]\n",
      "第30个样本：\n",
      "ID：Itqbc2TBXWY$_$26; 标签：3.0; 文本：this is really exciting for people in the GCC and we hope that you have success in going to this event and with immigrating to Canada\n",
      "公共相应模态(6): [ 95 169 330 390 459 484]\n",
      "第31个样本：\n",
      "ID：pf-78LF4ORE$_$29; 标签：3.0; 文本：I am looking forward to working with you, I hope you enjoy the class and you love fabric as much as I do.\n",
      "公共相应模态(7): [ 95 169 198 330 390 459 484]\n",
      "第32个样本：\n",
      "ID：F59hwsm4Ld0$_$41; 标签：3.0; 文本：Because if they give you a report that is empty, that shows everything is good\n",
      "公共相应模态(9): [ 95 169 171 198 284 390 399 464 509]\n",
      "第33个样本：\n",
      "ID：CL4hDu95Eqw$_$3; 标签：3.0; 文本：as the bastion of capitalism, the example that we hoped to be.\n",
      "公共相应模态(8): [ 20  95 169 330 390 399 459 484]\n",
      "第34个样本：\n",
      "ID：89747$_$5; 标签：3.0; 文本：I mean honestly, it's just a really, really well made movie, it's definitely (uhh) Bill Murray, you know, at one of his best and most comical roles\n",
      "公共相应模态(8): [ 20  95 169 198 330 390 459 484]\n",
      "第35个样本：\n",
      "ID：125730$_$14; 标签：3.0; 文本：It was an excellent movie, I'd give it (umm) five stars because I was not bored one minute\n",
      "公共相应模态(6): [ 95 169 330 390 459 484]\n",
      "第36个样本：\n",
      "ID：PGBrZLC15yA$_$0; 标签：3.0; 文本：ProtiDiet is a manufacturer of high quality and delicious nutritional foods high in protein with low-carbs that can be used with the Balanced Protein Diet Plan for weight loss.\n",
      "公共相应模态(6): [ 95 169 330 390 459 484]\n",
      "第37个样本：\n",
      "ID：125895$_$8; 标签：3.0; 文本：(umm) It is rated G and I give it five stars because I just think it's wonderful\n",
      "公共相应模态(6): [ 95 169 330 390 459 484]\n",
      "第38个样本：\n",
      "ID：52839$_$4; 标签：3.0; 文本：(umm) Steven Spielberg won a ton of like, (uhh) highest honors from the army and stuff like that too, that that's (stutter) how good this movie was, like it was very realistic and it told from the perspective of a soldier\n",
      "公共相应模态(7): [ 20  95 169 330 390 459 484]\n",
      "第39个样本：\n",
      "ID：4hEWns7JBg0$_$1; 标签：3.0; 文本：The real estate market is filling up with more and more options for home buyers as sellers continue to jump back in\n",
      "公共相应模态(7): [ 95 169 198 330 390 459 484]\n",
      "第40个样本：\n",
      "ID：juI9KoLA87A$_$10; 标签：3.0; 文本：Well, that really struck a chord, and I ended up a functional neurosurgeon who does deep brain stimulation.\n",
      "公共相应模态(8): [ 20  95 169 198 330 390 459 484]\n",
      "第41个样本：\n",
      "ID：qEkFReBuwxc$_$19; 标签：3.0; 文本：That takes a tremendous amount of courage, guts and bravery.\n",
      "公共相应模态(10): [ 20  95 169 198 222 330 390 399 459 484]\n",
      "第42个样本：\n",
      "ID：83859$_$10; 标签：3.0; 文本：Overall, I would give this movie a five out of five\n",
      "公共相应模态(8): [ 20  95 169 198 330 390 459 484]\n",
      "第43个样本：\n",
      "ID：21137$_$4; 标签：3.0; 文本：I loved it, and I laughed my butt off while I watched it\n",
      "公共相应模态(6): [ 95 169 330 390 459 484]\n",
      "第44个样本：\n",
      "ID：327283$_$6; 标签：3.0; 文本：It was such an amazing movie\n",
      "公共相应模态(7): [ 20  95 169 330 390 459 484]\n",
      "第45个样本：\n",
      "ID：6hp1SGhVYfY$_$1; 标签：3.0; 文本：So for me, personally, I've really enjoyed the lectures organised by Professor Ronald Dworkin so far.\n",
      "公共相应模态(10): [ 20  95 169 198 222 330 390 399 459 484]\n",
      "第46个样本：\n",
      "ID：3Wi0if_L6Ug$_$20; 标签：3.0; 文本：I personally believe that it has been a fantastic stepping stone to my future career and I would recommend it to everyone and anyone really.\n",
      "公共相应模态(9): [ 95 169 198 222 330 390 399 459 484]\n",
      "第47个样本：\n",
      "ID：vNID-RVhWcQ$_$1; 标签：3.0; 文本：Susan here bringing you today's e-tip and today I thought I would talk a little bit about Facebook.\n",
      "公共相应模态(10): [ 95 169 171 198 284 390 399 464 502 509]\n",
      "第48个样本：\n",
      "ID：83859$_$1; 标签：3.0; 文本：It is a Michael Mann film, and it has two of the greatest actors of all time playing on the (uhh) same movie: Al Pacino and Robert De Niro\n",
      "公共相应模态(7): [ 95 169 330 390 399 459 484]\n",
      "第49个样本：\n",
      "ID：8404$_$5; 标签：3.0; 文本：I enjoyed every bit of it\n",
      "公共相应模态(9): [ 20  95 169 198 330 390 399 459 484]\n",
      "第50个样本：\n",
      "ID：84176$_$2; 标签：3.0; 文本：That's how much I love them I'm like a big fan\n",
      "公共相应模态(7): [ 20  95 169 330 390 459 484]\n",
      "第51个样本：\n",
      "ID：83859$_$38; 标签：3.0; 文本：Definitely a great movie\n",
      "公共相应模态(6): [ 95 169 330 390 459 484]\n",
      "第52个样本：\n",
      "ID：197778$_$11; 标签：3.0; 文本：And (umm) we just love it, it's a great story and there's Aladar when he's just a baby\n",
      "公共相应模态(7): [ 20  95 169 330 390 459 484]\n",
      "第53个样本：\n",
      "ID：l-nM_U1qpko$_$5; 标签：3.0; 文本：AND REALLY LIKE TO THANK THE WHOLE YOKOSUKA COMMUNITY AND ALSO OUR JAPANESE PARTNERS, THEY'VE BEEN TREMENDOUS THROUGHOUT THIS\n",
      "公共相应模态(9): [ 95 169 198 222 330 390 399 459 484]\n",
      "第54个样本：\n",
      "ID：0vXaXWx7Rvo$_$0; 标签：3.0; 文本：because I was very excited and very proud of it at the time and I still of course am but when people would ask me, \"What do you do\n",
      "公共相应模态(8): [ 95 169 198 330 390 399 459 484]\n",
      "第55个样本：\n",
      "ID：60037$_$3; 标签：3.0; 文本：So I would give this a (stutter) enthusiastic five out of five rating\n",
      "公共相应模态(6): [ 95 169 330 390 459 484]\n",
      "第56个样本：\n",
      "ID：qlDT-bmIzQI$_$4; 标签：3.0; 文本：The staff was great all the time helped me with everything I needed.\n",
      "公共相应模态(9): [ 95 169 198 222 330 390 399 459 484]\n",
      "第57个样本：\n",
      "ID：244261$_$2; 标签：3.0; 文本：(umm) I can't go any farther without telling you it's a five out of five stars\n",
      "公共相应模态(8): [ 95 169 198 330 390 399 459 484]\n",
      "第58个样本：\n",
      "ID：27ubp7CLLKQ$_$20; 标签：3.0; 文本：Barack Obama, I think, is highly electable, and very excited and thrilled, that he is the Democratic candidate.\n",
      "公共相应模态(7): [ 20  95 169 330 390 459 484]\n",
      "第59个样本：\n",
      "ID：89747$_$1; 标签：3.0; 文本：(uhh) This is probably one of my favorite movies and definitely my favorite comedy, you know, that I own\n",
      "公共相应模态(7): [ 20  95 169 330 390 459 484]\n",
      "第60个样本：\n",
      "ID：Ja7phs8EbWk$_$11; 标签：3.0; 文本：If you are continuing at OSU, I hope you have a great summer and we will see you in the Fall.\n",
      "公共相应模态(8): [ 95 169 198 330 390 399 459 484]\n",
      "第61个样本：\n",
      "ID：mgovo8VYtvk$_$30; 标签：3.0; 文本：I majored in English and history in college, and both those majors taught me to read critically, with purpose and focus, and a questioning mind\n",
      "公共相应模态(10): [ 95 169 198 222 284 330 390 399 459 484]\n",
      "第62个样本：\n",
      "ID：4Q95Lg3Icho$_$12; 标签：3.0; 文本：But when I got to the garage who should be standing there next to me waiting for his car but the amazing and gifted genius Steven Spielberg now even II have a hard time not staring and of course I know being in the celebrity world that you really wanna give these people some space nobody else was approaching him\n",
      "公共相应模态(8): [ 95 169 198 330 390 399 459 484]\n",
      "第63个样本：\n",
      "ID：234053$_$24; 标签：3.0; 文本：I'm going to give it five out of five stars\n",
      "公共相应模态(7): [ 20  95 169 330 390 459 484]\n",
      "第64个样本：\n",
      "ID：WSjlhBDxNW8$_$9; 标签：3.0; 文本：I would not be where I am today without my education and experience that I had here at Indiana Tech.\n",
      "公共相应模态(10): [ 20  95 169 198 222 330 390 399 459 484]\n",
      "第65个样本：\n",
      "ID：130633$_$9; 标签：3.0; 文本：It is done great\n",
      "公共相应模态(8): [ 20  95 169 198 330 390 459 484]\n",
      "第66个样本：\n",
      "ID：gjSyl6evrWk$_$0; 标签：3.0; 文本：Hi, This is just a quick video review using this great product, which is a Shampoo Scalp Massage Brush that I just got from Nizoralshop.com.\n",
      "公共相应模态(6): [ 95 169 330 390 459 484]\n",
      "第67个样本：\n",
      "ID：Rdf0Psjyrwc$_$1; 标签：3.0; 文本：They have been wonderful, helping us with our success stories, our testimonial videos that we've been able to share with our clients, and it's been really great talking to other top-producing team leaders and owner/brokers throughout the country on their Vyral experience.\n",
      "公共相应模态(8): [ 95 169 198 330 390 399 459 484]\n",
      "第68个样本：\n",
      "ID：sPxoGNvnVzg$_$2; 标签：3.0; 文本：Now we’re going to make Ice King\n",
      "公共相应模态(10): [ 95 169 198 222 330 390 399 459 484 502]\n",
      "第69个样本：\n",
      "ID：239572$_$1; 标签：3.0; 文本：(umm) This was absolutely my favorite movie (umm) of, of (stutter) the year (umm) I really enjoyed this movie\n",
      "公共相应模态(7): [ 20  95 169 330 390 459 484]\n",
      "第70个样本：\n",
      "ID：QMEgjkpyVzQ$_$8; 标签：3.0; 文本：On a personal level I love working with my clients and I love learning what they do and why they do it, but what I love even more is when I give them the copy and they say, \"Wow, this is just what I was looking for!\"\n",
      "公共相应模态(10): [ 20  95 169 198 222 330 390 399 459 484]\n",
      "第71个样本：\n",
      "ID：60037$_$14; 标签：3.0; 文本：Groundhog Day is a fun one, good for dates, good for significant others\n",
      "公共相应模态(6): [ 95 169 330 390 459 484]\n",
      "第72个样本：\n",
      "ID：8404$_$3; 标签：3.0; 文本：Well it turns out this movie's actually really really good\n",
      "公共相应模态(11): [ 20  95 169 198 222 330 390 399 459 484 502]\n",
      "第73个样本：\n",
      "ID：241164$_$2; 标签：3.0; 文本：It's a very very amazing movie\n",
      "公共相应模态(9): [ 95 169 198 222 330 390 399 459 484]\n",
      "第74个样本：\n",
      "ID：GtRxTvuF6J0$_$0; 标签：3.0; 文本：The reason I chose a Loyola executive MBA program is because of convenience and quality.\n",
      "公共相应模态(9): [ 95 169 198 222 330 390 399 459 484]\n",
      "第75个样本：\n",
      "ID：84133$_$1; 标签：3.0; 文本：(umm) I love everything about them, the cheese factor, the action sequences, the whole thing\n",
      "公共相应模态(7): [ 20  95 169 330 390 459 484]\n",
      "第76个样本：\n",
      "ID：208416$_$14; 标签：3.0; 文本：I'd give it five stars\n",
      "公共相应模态(8): [ 95 169 198 330 390 399 459 484]\n",
      "第77个样本：\n",
      "ID：83859$_$6; 标签：3.0; 文本：Supporting cast is great\n",
      "公共相应模态(7): [ 95 169 198 330 390 459 484]\n",
      "第78个样本：\n",
      "ID：nD1R4UedEDo$_$15; 标签：3.0; 文本：Either way, I hope this video provides you with some helpful info about how to best manage risk-control recommendations\n",
      "公共相应模态(6): [ 95 169 330 390 459 484]\n",
      "第79个样本：\n",
      "ID：210618$_$12; 标签：3.0; 文本：(umm) Just, it's, it's (stutter) a hilarious movie\n",
      "公共相应模态(8): [ 20  95 169 198 330 390 459 484]\n",
      "第80个样本：\n",
      "ID：367506$_$12; 标签：3.0; 文本：(umm) The special effects was great, everything looked so realistic\n",
      "公共相应模态(9): [ 20  95 169 198 330 390 399 459 484]\n",
      "第81个样本：\n",
      "ID：dsob2MgUPpA$_$9; 标签：3.0; 文本：I'm so thankful for how often I get to be in a circle with people\n",
      "公共相应模态(6): [ 95 169 330 390 459 484]\n",
      "第82个样本：\n",
      "ID：XVSDfgstFUQ$_$3; 标签：3.0; 文本：So yeah, I am very much looking forward to getting in on this\n",
      "公共相应模态(9): [ 95 169 198 222 330 390 399 459 484]\n",
      "第83个样本：\n",
      "ID：15837$_$2; 标签：3.0; 文本：This is a great movie\n",
      "公共相应模态(7): [ 20  95 169 330 390 459 484]\n",
      "第84个样本：\n",
      "ID：fzuTEKwNS94$_$16; 标签：3.0; 文本：When I wanted guidance about what career path would make me feel happy and fulfilled, I found guidance in a tarot reading\n",
      "公共相应模态(8): [ 95 169 198 330 390 399 459 484]\n",
      "第85个样本：\n",
      "ID：252177$_$2; 标签：3.0; 文本：(umm) This is just a great movie\n",
      "公共相应模态(6): [ 95 169 330 390 459 484]\n",
      "第86个样本：\n",
      "ID：RIAEgUKtzxw$_$12; 标签：3.0; 文本：The help and the association with the clinic has been outstanding, very knowledgeable, very pleasant, and very helpful.\n",
      "公共相应模态(8): [ 95 169 198 330 390 399 459 484]\n",
      "第87个样本：\n",
      "ID：24xayGF5yYA$_$16; 标签：3.0; 文本：Oh, and look, there it is right there on page 87, it's Amy's Authority Video Formula all about how to do a YouTube video\n",
      "公共相应模态(6): [ 95 169 330 390 459 484]\n",
      "第88个样本：\n",
      "ID：197778$_$15; 标签：3.0; 文本：Once again, this is Dinosaur by Walt Disney, the colors on the movie are fabulous, the story is great\n",
      "公共相应模态(6): [ 95 169 330 390 459 484]\n",
      "第89个样本：\n",
      "ID：229090$_$17; 标签：3.0; 文本：(umm) If you just go online and read about this movie it's it's (stutter) quite interesting and hilarious how it came to be\n",
      "公共相应模态(6): [ 95 169 330 390 459 484]\n",
      "第90个样本：\n",
      "ID：juI9KoLA87A$_$18; 标签：3.0; 文本：Add that with 12 neurosurgeons who I genuinely like, and the answer was obvious.\n",
      "公共相应模态(7): [ 20  95 169 330 390 459 484]\n",
      "第91个样本：\n",
      "ID：207812$_$4; 标签：3.0; 文本：So I thought that was really cool\n",
      "公共相应模态(7): [ 95 169 198 330 390 459 484]\n",
      "第92个样本：\n",
      "ID：95mDHiLeDCM$_$1; 标签：3.0; 文本：It can affect the interest rates you pay and the deals you get as you purchase the things you need.\n",
      "公共相应模态(6): [ 95 169 330 390 459 484]\n",
      "第93个样本：\n",
      "ID：LUKIYWa0UGA$_$1; 标签：3.0; 文本：I love you and THANK YOU\n",
      "公共相应模态(6): [ 95 169 330 390 459 484]\n",
      "第94个样本：\n",
      "ID：uyOrVTq8Tjk$_$8; 标签：3.0; 文本：To me, that's going a take us a leap forward and I'm excited to see that.\n",
      "公共相应模态(7): [ 95 169 198 330 390 459 484]\n",
      "第95个样本：\n",
      "ID：83859$_$11; 标签：3.0; 文本：Definitely watch this movie multiple times\n",
      "公共相应模态(7): [ 20  95 169 330 390 459 484]\n",
      "第96个样本：\n",
      "ID：d0QNH2vcDgU$_$23; 标签：3.0; 文本：And we've chosen to to come to UNCC today, because we think that that they have a great talent pool of people that love the Charlotte area whether it's Charlotte or Hickory\n",
      "公共相应模态(9): [ 95 169 198 222 330 390 399 459 484]\n",
      "第97个样本：\n",
      "ID：327283$_$17; 标签：3.0; 文本：It was so good that it's, it's (stutter) a movie you have to see\n",
      "公共相应模态(8): [ 20  95 169 330 390 399 459 484]\n",
      "第98个样本：\n",
      "ID：FGnHDWGYsA8$_$1; 标签：3.0; 文本：The first day I put it on I went outside, and I could hear the difference between the beginning of a bird's chirp and the end.\n",
      "公共相应模态(9): [ 95 169 198 222 330 390 399 459 484]\n",
      "第99个样本：\n",
      "ID：f6S2XNPIiFk$_$0; 标签：3.0; 文本：SECRETARY KERRY: I am blessed to have a niece named Iris, who is one of the most extraordinary young women I've met.\n",
      "公共相应模态(9): [ 95 169 198 222 330 390 399 459 484]\n",
      "第100个样本：\n",
      "ID：f6S2XNPIiFk$_$1; 标签：3.0; 文本：From the day she came into our family, she's filled our lives with love and joy.\n",
      "公共相应模态(9): [ 95 169 198 222 330 390 399 459 484]\n",
      "第101个样本：\n",
      "ID：97095$_$23; 标签：3.0; 文本：Highly recommend this\n",
      "公共相应模态(7): [ 20  95 169 330 390 459 484]\n",
      "第102个样本：\n",
      "ID：jFpRdhl3fgw$_$5; 标签：3.0; 文本：OHHHH that is so clever but at the same time your you guys are kinda over i dont know if their going to get back together but that is soo thats actulay realy funny\n",
      "公共相应模态(7): [ 20  95 169 330 390 459 484]\n",
      "第103个样本：\n",
      "ID：d38u9n5GOLM$_$15; 标签：3.0; 文本：It’s the very first Wanted Adventure bag that she’s made, and I’m hoping in the future there will be more like this, please Mom.\n",
      "公共相应模态(7): [ 95 169 198 330 390 459 484]\n",
      "第104个样本：\n",
      "ID：Rt9rN1ntS3E$_$7; 标签：3.0; 文本：We're super excited to be working with YouTube to bring this to our fans on the platform via YouTube Red\n",
      "公共相应模态(9): [ 20  95 169 198 330 390 399 459 484]\n",
      "第105个样本：\n",
      "ID：CLkTjujFVKU$_$1; 标签：3.0; 文本：When we dig deeper into language, it enriches our entire experience of life.\n",
      "公共相应模态(7): [ 20  95 169 330 390 459 484]\n",
      "第106个样本：\n",
      "ID：LUKIYWa0UGA$_$8; 标签：3.0; 文本：I really wanted to THANK my mom and dad and my sisters for being really a great family\n",
      "公共相应模态(6): [ 95 169 330 390 459 484]\n",
      "第107个样本：\n",
      "ID：6slq62RwH3Q$_$4; 标签：3.0; 文本：And I'm really grateful for my friends and family, and I try to tell them how much I really appreciate them being around in my life.\n",
      "公共相应模态(10): [ 20  95 169 198 222 330 390 399 459 484]\n",
      "第108个样本：\n",
      "ID：-UuX1xuaiiE$_$0; 标签：3.0; 文本：^it's amazing to see their enthusiasm and their passion\n",
      "公共相应模态(9): [ 95 169 198 222 330 390 399 459 484]\n",
      "第109个样本：\n",
      "ID：S21ApRNQ9Ko$_$0; 标签：3.0; 文本：\"Nice!\" \"Aw.\" Hi I'm Rokosz, your digital lifestyle expert and we're talking about how to buy Wii games and accessories online.\n",
      "公共相应模态(9): [ 95 169 198 222 330 390 399 459 484]\n",
      "第110个样本：\n",
      "ID：83859$_$35; 标签：3.0; 文本：Great heist scene\n",
      "公共相应模态(6): [ 95 169 330 390 459 484]\n",
      "第111个样本：\n",
      "ID：197778$_$14; 标签：3.0; 文本：(umm) But other than that, it's just great, we love it\n",
      "公共相应模态(6): [ 95 169 330 390 459 484]\n",
      "第112个样本：\n",
      "ID：252177$_$1; 标签：3.0; 文本：It's me, Danny Ericson, and I'm here to talk to you about this great new movie called The Hottie and the Nottie, starring Paris Hilton and (uhh) Joel Moore\n",
      "公共相应模态(7): [ 20  95 169 330 390 459 484]\n",
      "第113个样本：\n",
      "ID：209354$_$5; 标签：3.0; 文本：But Underworld it's definitely gonna get five out of five stars\n",
      "公共相应模态(10): [ 20  95 169 198 222 330 390 399 459 484]\n",
      "第114个样本：\n",
      "ID：EO_SN04Xef0$_$4; 标签：3.0; 文本：I want it to be a fun way to learn more about your favorite films and help us all become better storytellers\n",
      "公共相应模态(8): [ 20  95 169 198 330 390 459 484]\n",
      "第115个样本：\n",
      "ID：jQ3EmbRIe58$_$5; 标签：3.0; 文本：And it's leading to a lot of exciting conversations and for us to look at opportunities that we never thought before possible.\n",
      "公共相应模态(9): [ 95 169 198 222 330 390 399 459 484]\n",
      "第116个样本：\n",
      "ID：dsob2MgUPpA$_$1; 标签：3.0; 文本：Want to share with you my gratitude of the day\n",
      "公共相应模态(7): [ 95 169 198 330 390 459 484]\n",
      "第117个样本：\n",
      "ID：97095$_$24; 标签：3.0; 文本：Five stars out of five\n",
      "公共相应模态(7): [ 20  95 169 330 390 459 484]\n",
      "第118个样本：\n",
      "ID：jNdvceZ4etc$_$5; 标签：3.0; 文本：The crown of your head should be pointed toward the sky and your chin should be parallel to the floor\n",
      "公共相应模态(11): [ 95 169 171 198 222 284 330 390 399 464 484]\n",
      "第119个样本：\n",
      "ID：327283$_$15; 标签：3.0; 文本：(umm) Like I said, it was an amazing movie, (uhh) definitely a five out of five\n",
      "公共相应模态(7): [ 20  95 169 330 390 459 484]\n",
      "第120个样本：\n",
      "ID：367506$_$15; 标签：3.0; 文本：Really, really loved that part\n",
      "公共相应模态(7): [ 20  95 169 330 390 459 484]\n",
      "第121个样本：\n",
      "ID：UgTM9y2rD38$_$2; 标签：3.0; 文本：Metro Arts: Featuring the best artists in the Metro Detroit area.\n",
      "公共相应模态(8): [ 95 169 198 330 390 399 459 484]\n",
      "第122个样本：\n",
      "ID：2mWPHvbKzL8$_$20; 标签：3.0; 文本：Reviews from happy clients will quickly generate more business.\n",
      "公共相应模态(9): [ 95 169 198 222 330 390 399 459 484]\n",
      "第123个样本：\n",
      "ID：oHV99Y_EWfI$_$4; 标签：3.0; 文本：It was a beautiful, sunny day and I was walking down Elmer Street on my way to an appointment.\n",
      "公共相应模态(8): [ 95 169 198 330 390 399 459 484]\n",
      "第124个样本：\n",
      "ID：MSmTFZ_-THM$_$5; 标签：3.0; 文本：I was the only student from Aston that went and be able to learn different things, meet new people and just have such an amazing experience.\n",
      "公共相应模态(9): [ 95 169 198 222 330 390 399 459 484]\n",
      "第125个样本：\n",
      "ID：iceSGs0MXaA$_$5; 标签：3.0; 文本：Which of course is a good thing\n",
      "公共相应模态(6): [ 95 169 330 390 459 484]\n",
      "第126个样本：\n",
      "ID：52839$_$1; 标签：3.0; 文本：This movie rules\n",
      "公共相应模态(7): [ 20  95 169 330 390 459 484]\n",
      "第127个样本：\n",
      "ID：ZdX9sUd3bAI$_$1; 标签：3.0; 文本：I'm a senior political science major here at Heidelberg University and over the past four years I've had a really great opportunity, and set of opportunities, to really find what I want to do and who I want to be within the political science field.\n",
      "公共相应模态(10): [ 20  95 169 198 222 330 390 399 459 484]\n",
      "第128个样本：\n",
      "ID：97992$_$7; 标签：3.0; 文本：(umm) Great acting, great story, just everything about it is pretty much perfect\n",
      "公共相应模态(8): [ 20  95 169 198 330 390 459 484]\n",
      "第129个样本：\n",
      "ID：97095$_$34; 标签：3.0; 文本：It's a very good movie, and I highly recommend it\n",
      "公共相应模态(10): [ 20  95 169 198 222 330 390 399 459 484]\n",
      "第130个样本：\n",
      "ID：197778$_$3; 标签：3.0; 文本：This is a Disney movie and we love it\n",
      "公共相应模态(7): [ 20  95 169 330 390 459 484]\n",
      "第131个样本：\n",
      "ID：4Q95Lg3Icho$_$19; 标签：3.0; 文本：Lost count to be honest with you along with The Color Purple and and Schindler's List so I have seen these movies so many times I know what's going to happen in these movies, I know the outcome, I know when to hide my eyes, I know when I know when it's going to be funny, but I still love seeing them\n",
      "公共相应模态(6): [ 95 169 330 390 459 484]\n",
      "第132个样本：\n",
      "ID：367506$_$13; 标签：3.0; 文本：The acting was great, they really come into their characters\n",
      "公共相应模态(7): [ 20  95 169 330 390 459 484]\n",
      "第133个样本：\n",
      "ID：87400$_$9; 标签：3.0; 文本：I just saw that and that's a fantastic movie\n",
      "公共相应模态(6): [ 95 169 330 390 459 484]\n",
      "第134个样本：\n",
      "ID：SGsiGz2fdpo$_$23; 标签：3.0; 文本：Then we also offer one of the best insurance rates of any other Detroit landlord that I have ever talked to\n",
      "公共相应模态(7): [ 20  95 169 330 390 459 484]\n",
      "第135个样本：\n",
      "ID：245243$_$1; 标签：3.0; 文本：Starring Bill Murray (uhh) and Andie MacDowell and (uhh) directed by Harold Ramis who started with Bill Murray and stripes (uhh) seven years before (umm) this is one of my favorite comedies of the last say twenty years it's a very simple premise done extremely well, and the simple premise is that a man gets stuck re-living the same day over and over again until he gets it right (uhh) in this case it's a weather man (uhh) played by Bill Murray who gets stuck in Groundhog Day in Puxatony, Philadelphia or excuse me Puxatony, Pennsylvania (uhh) until he gets the day right\n",
      "公共相应模态(9): [ 95 169 171 198 284 330 390 399 464]\n",
      "第136个样本：\n",
      "ID：ALlKbGE6BH0$_$3; 标签：3.0; 文本：I knew I was interested in engineering ever since the freshman year of high school, and so if I could combine it with biology, which is my other favorite thing, that would have been awesome.\n",
      "公共相应模态(6): [ 95 169 330 390 459 484]\n",
      "第137个样本：\n",
      "ID：GpRDC-S88dM$_$7; 标签：3.0; 文本：And deep down I know that I'm very lucky and I'm very grateful for everything that I have so I should start verbalizing that and verbalizing how grateful I am for things instead of sounding unappreciative\n",
      "公共相应模态(9): [ 95 169 198 222 330 390 399 459 484]\n",
      "第138个样本：\n",
      "ID：97095$_$11; 标签：3.0; 文本：This movie has everything\n",
      "公共相应模态(7): [ 20  95 169 330 390 459 484]\n",
      "第139个样本：\n",
      "ID：iMG962Rj3Vw$_$3; 标签：3.0; 文本：It smells wonderful, the texture is  very smooth, it absorbs instantly.\n",
      "公共相应模态(7): [ 95 169 198 330 390 459 484]\n",
      "第140个样本：\n",
      "ID：hmjfBZGGZR8$_$1; 标签：3.0; 文本：Thankfully, CashCourse has a way for me to make sure that I'm banking my money correctly, and they teach me how to save my money and choose the correct checking account.\n",
      "公共相应模态(8): [ 95 169 198 330 390 399 459 484]\n",
      "第141个样本：\n",
      "ID：9K4aWWoXuyU$_$0; 标签：3.0; 文本：[Background voices] Randi Zuckerberg &gt;&gt; Hi, my name's Randi and I'm thrilled that the Obama administration is doing what they are doing with the internet.\n",
      "公共相应模态(10): [ 95 169 198 284 330 390 399 459 464 484]\n",
      "第142个样本：\n",
      "ID：lEsFI5YJGDo$_$3; 标签：3.0; 文本：I got to a high position in a technological organization, but something is still missing\n",
      "公共相应模态(7): [ 20  95 169 330 390 459 484]\n",
      "第143个样本：\n",
      "ID：298774$_$1; 标签：3.0; 文本：This movie is playing out in theaters and it is very good\n",
      "公共相应模态(6): [ 95 169 330 390 459 484]\n",
      "第144个样本：\n",
      "ID：CLkTjujFVKU$_$8; 标签：3.0; 文本：Language is the soul of humanity, it is the closest thing our civilisation has to DNA.\n",
      "公共相应模态(6): [ 95 169 330 390 459 484]\n",
      "第145个样本：\n",
      "ID：P4qxfjZlIrY$_$2; 标签：3.0; 文本：I'm so excited to travel to the 2016 AG Bell convention in Denver, CO.\n",
      "公共相应模态(6): [ 95 169 330 390 459 484]\n",
      "第146个样本：\n",
      "ID：kcIGTPHEsNo$_$20; 标签：3.0; 文本：And then another friend of mine from the workshop at Columbia recommended me for the job at Scholastic.\n",
      "公共相应模态(7): [ 95 169 198 330 390 459 484]\n",
      "第147个样本：\n",
      "ID：186631$_$12; 标签：3.0; 文本：It's just a wonderful movie for all ages, so if you want to see something that's very entertaining with a lot of laughs and even get educated about how to cook, with a (uhh) profession such as a gourmet chef from France, you'll love Remy\n",
      "公共相应模态(8): [ 20  95 169 198 330 390 459 484]\n",
      "第148个样本：\n",
      "ID：YWxvIFmYnNU$_$44; 标签：3.0; 文本：So listen, regardless of whether or not you do get some kind of a license or don’t.No matter what at the end of the day,be an investor - it’s something anyone can do, that’s where the real moneyis made.\n",
      "公共相应模态(9): [ 95 169 198 222 330 390 399 459 484]\n",
      "第149个样本：\n",
      "ID：227426$_$3; 标签：3.0; 文本：(umm) I love Reese Witherspoon\n",
      "公共相应模态(7): [ 20  95 169 330 390 459 484]\n",
      "第150个样本：\n",
      "ID：OdKp0hYomgs$_$10; 标签：3.0; 文本：Humanity is starting to seep into his psyche, and it all crescendo's in the moment when he says: \"THAT'S MY BULMAA\n",
      "公共相应模态(10): [ 95 169 198 222 330 390 399 459 484 502]\n",
      "第151个样本：\n",
      "ID：rWjPSlzUc-8$_$3; 标签：3.0; 文本：The introduction also sets the tone for the rest of your paper, so you've gotta write it in a way that attracts the reader's attention and gives them enough info want to read on.\n",
      "公共相应模态(9): [ 95 169 198 222 284 330 390 399 484]\n",
      "第152个样本：\n",
      "ID：231025$_$2; 标签：3.0; 文本：(umm) I really like Hilary Swank, I think she's a great actress and I think she was fantastic in Boys Don't Cry\n",
      "公共相应模态(6): [ 95 169 330 390 459 484]\n",
      "第153个样本：\n",
      "ID：PmemTgQHagk$_$5; 标签：3.0; 文本：It was something that was rather nerve-wracking at first but really helped me and I find myself in quite a strong position finishing my degree and also a good position to return to a Spanish-speaking country.\n",
      "公共相应模态(9): [ 95 169 198 222 330 390 399 459 484]\n",
      "第154个样本：\n",
      "ID：d38u9n5GOLM$_$1; 标签：3.0; 文本：Dana here and today I have lots of exciting, crazy things to share with you.\n",
      "公共相应模态(7): [ 95 169 198 330 390 459 484]\n",
      "第155个样本：\n",
      "ID：234053$_$25; 标签：3.0; 文本：I'm going to suggest that you definitely pick up three hundred\n",
      "公共相应模态(9): [ 20  95 169 198 330 390 399 459 484]\n",
      "第156个样本：\n",
      "ID：6slq62RwH3Q$_$1; 标签：3.0; 文本：I just want to tell you all Happy Labor Day and I hope everyone all of you had a wonderful day today.\n",
      "公共相应模态(10): [ 20  95 169 198 222 330 390 399 459 484]\n",
      "第157个样本：\n",
      "ID：136211$_$4; 标签：3.0; 文本：But Live Free or Die Hard basically if you're like me, if you love to see stuff blowing up, cars flipping in the air, shoot them up, everything like that, if it Bruce Willis is crazy and hardcore as usual, (umm) just like the rest of them, it definitely won't disappoint\n",
      "公共相应模态(10): [ 20  95 169 198 222 330 390 399 459 484]\n",
      "第158个样本：\n",
      "ID：-THoVjtIkeU$_$6; 标签：3.0; 文本：You know that I think listening to young people, taking in what they have to say because what we have seen all around the world is the power of youth.\n",
      "公共相应模态(9): [ 95 169 198 222 330 390 399 459 484]\n",
      "第159个样本：\n",
      "ID：8YsIvz4qnk4$_$1; 标签：3.0; 文本：I was able to help me has been purchased for sale so my three kids could have space.\n",
      "公共相应模态(6): [ 95 169 330 390 459 484]\n",
      "第160个样本：\n",
      "ID：21137$_$3; 标签：3.0; 文本：It is a hilarious movie\n",
      "公共相应模态(7): [ 20  95 169 330 390 459 484]\n",
      "第161个样本：\n",
      "ID：dsob2MgUPpA$_$14; 标签：3.0; 文本：And I'm feeling that gratitude right now\n",
      "公共相应模态(9): [ 95 169 198 222 330 390 399 459 484]\n",
      "第162个样本：\n",
      "ID：2-4autDbHVQ$_$10; 标签：3.0; 文本：And honestly I feel so much healthier\n",
      "公共相应模态(7): [ 95 169 198 330 390 459 484]\n",
      "第163个样本：\n",
      "ID：xk4C4p5vHDk$_$3; 标签：3.0; 文本：I’m 5 years old, I love doing this\n",
      "公共相应模态(6): [ 20  95 330 390 459 484]\n",
      "第164个样本：\n",
      "ID：4iG0ffmnCOw$_$11; 标签：3.0; 文本：Trent University really excels at making sure that you have great connections with absolutely every person that's in your class as well as your professors, the administration, all levels, you get to know everything about a University likes us a very easy basis it's a fantastic network.\n",
      "公共相应模态(9): [ 20  95 169 198 330 390 399 459 484]\n",
      "第165个样本：\n",
      "ID：Cb8ay6WtJuM$_$1; 标签：3.0; 文本：I highly recommend this Air Floss from Sonicare\n",
      "公共相应模态(8): [ 95 169 198 330 390 399 459 484]\n",
      "第166个样本：\n",
      "ID：4hEWns7JBg0$_$28; 标签：3.0; 文本：For more advice with a personalized touch, contact Berkley Land and Kendra Downs with Prudential Alliance Realtors at 314-872-6716 and consult with a full-service agent\n",
      "公共相应模态(6): [ 95 169 330 390 459 484]\n",
      "第167个样本：\n",
      "ID：pAclBdj20ZU$_$9; 标签：3.0; 文本：letting your brain know that even with this thought, you are safe and it's Ok to relax\n",
      "公共相应模态(9): [ 95 169 198 222 330 390 399 459 484]\n",
      "第168个样本：\n",
      "ID：4hEWns7JBg0$_$4; 标签：3.0; 文本：Informed home buyers can find unbelievable deals on mortgages\n",
      "公共相应模态(6): [ 95 169 330 390 459 484]\n",
      "第169个样本：\n",
      "ID：Xo6-V2RlWss$_$1; 标签：3.0; 文本：It's cash back credit card with a great plan and MBNA is a good overall lender.\n",
      "公共相应模态(7): [ 95 169 198 330 390 459 484]\n",
      "第170个样本：\n",
      "ID：210618$_$0; 标签：3.0; 文本：Hello I would like to tell you about an excellent new movie from Disney and Pixar and that's Ratatouille\n",
      "公共相应模态(8): [ 20  95 169 198 330 390 459 484]\n",
      "第171个样本：\n",
      "ID：239572$_$8; 标签：3.0; 文本：(umm) This movie was just unbelievable (stutter) it was hilarious, it was family, it was friend, you know you can watch it with friends, family, (umm) all ages\n",
      "公共相应模态(7): [ 20  95 169 330 390 459 484]\n",
      "第172个样本：\n",
      "ID：83859$_$34; 标签：3.0; 文本：Great action film\n",
      "公共相应模态(7): [ 20  95 169 330 390 459 484]\n",
      "第173个样本：\n",
      "ID：83859$_$32; 标签：3.0; 文本：If you have not seen this, I highly recommend this\n",
      "公共相应模态(7): [ 20  95 169 330 390 459 484]\n",
      "第174个样本：\n",
      "ID：8404$_$4; 标签：3.0; 文本：It has a great storyline, the actors were great, there was nothing bad about this movie\n",
      "公共相应模态(9): [ 20  95 169 198 330 390 399 459 484]\n",
      "第175个样本：\n",
      "ID：239572$_$9; 标签：3.0; 文本：(umm) It made you laugh so I really enjoyed this movie\n",
      "公共相应模态(7): [ 20  95 169 330 390 459 484]\n",
      "第176个样本：\n",
      "ID：Bg-PA5KTjNs$_$7; 标签：3.0; 文本：I followed the instructions closely and after a few weeks the hair loss actually stopped.\n",
      "公共相应模态(7): [ 20  95 169 330 390 459 484]\n",
      "第177个样本：\n",
      "ID：122842$_$1; 标签：3.0; 文本：This is my favorite of all the Star Wars movies\n",
      "公共相应模态(8): [ 20  95 169 198 330 390 459 484]\n",
      "第178个样本：\n",
      "ID：225416$_$6; 标签：3.0; 文本：(umm) It has really good cinematography and a really good visual style the guy who directed it (umm), Jean-Pierre Jeunet, I'm not sure if I pronounced his name properly, I don't speak French, so pardon me, (umm) he also directed (umm) City of Lost Children and Delicatessen and (uhh) Amelie, (uhh) which is a pretty good movie\n",
      "公共相应模态(8): [ 20  95 169 198 330 390 459 484]\n",
      "第179个样本：\n",
      "ID：210618$_$13; 标签：3.0; 文本：I mean you have to watch this movie it is so good the animation is excellent\n",
      "公共相应模态(7): [ 20  95 169 330 390 459 484]\n",
      "第180个样本：\n",
      "ID：39lcRCFvV-s$_$41; 标签：3.0; 文本：I’m 31, I make a living as an author, I’ve got an incredible wife and three wonderful children, we got a real nice house in a real nice town in Oregon\n",
      "公共相应模态(7): [ 20  95 169 330 390 459 484]\n",
      "第181个样本：\n",
      "ID：298774$_$11; 标签：3.0; 文本：And there's just a lot of the drama going on and (umm) it's a wonderful storyline, really really interesting and (umm) it will just keep you on the edge of your seat the whole movie\n",
      "公共相应模态(6): [ 95 169 330 390 459 484]\n",
      "第182个样本：\n",
      "ID：30763$_$12; 标签：3.0; 文本：Can she lose him or can he make her fall in love with him? It's just very funny the way Kate Hudson just dominates (umm) being the woman of the relationship\n",
      "公共相应模态(9): [ 95 169 198 222 330 390 399 459 484]\n",
      "第183个样本：\n",
      "ID：N7tS7A0WWpM$_$8; 标签：3.0; 文本：And, me and my family cannot say enough good things about them\n",
      "公共相应模态(9): [ 95 169 198 222 330 390 399 459 484]\n",
      "第184个样本：\n",
      "ID：244261$_$20; 标签：3.0; 文本：{movie} Okay, well, yeah seriously you got to check this movie out, five out of five stars\n",
      "公共相应模态(8): [ 20  95 169 198 330 390 459 484]\n",
      "第185个样本：\n",
      "ID：QE0pAVSPsKQ$_$2; 标签：3.0; 文本：I WANT TO THANK THEM, I WANT TO THANK THE CAST AND CREW BACK IN BROOKLYN, NEW YORK.\n",
      "公共相应模态(6): [ 95 169 330 390 459 484]\n",
      "第186个样本：\n",
      "ID：209354$_$9; 标签：3.0; 文本：So Underworld, give it five out of five stars, look for the sequel Underworld Evolution\n",
      "公共相应模态(9): [ 20  95 169 198 330 390 399 459 484]\n",
      "第187个样本：\n",
      "ID：TO5HjoK8Iu8$_$3; 标签：3.0; 文本：But while official duties are keeping me in Washington, I do want to give a big shout-out to NASA and to architect Bill McDonough and his team.\n",
      "公共相应模态(9): [ 20  95 169 198 330 390 399 459 484]\n",
      "第188个样本：\n",
      "ID：wz3nVBPVgIA$_$0; 标签：3.0; 文本：It's just a little smaller than a car, but that's great\n",
      "公共相应模态(6): [ 95 169 330 390 459 484]\n",
      "第189个样本：\n",
      "ID：4Q95Lg3Icho$_$16; 标签：3.0; 文本：nobody spins a yarn like Steven Spielberg\n",
      "公共相应模态(6): [ 95 169 330 390 459 484]\n",
      "第190个样本：\n",
      "ID：87400$_$13; 标签：3.0; 文本：It's amazing\n",
      "公共相应模态(7): [ 20  95 169 330 390 459 484]\n",
      "第191个样本：\n",
      "ID：97992$_$0; 标签：3.0; 文本：Hey guys I'm here with a review of one of best movies ever made, Oldboy\n",
      "公共相应模态(9): [ 20  95 169 198 330 390 399 459 484]\n",
      "第192个样本：\n",
      "ID：227416$_$8; 标签：3.0; 文本：(uhh) you can sit back, you can enjoy it and for a directorial debut it's definitely impressive on the side of Robert De Niro\n",
      "公共相应模态(7): [ 20  95 169 330 390 459 484]\n",
      "第193个样本：\n",
      "ID：XVSDfgstFUQ$_$4; 标签：3.0; 文本：I love how many books Rick Riordan puts out like, even if I am currently behind on the Rick Riordan books, it's a good problem to have\n",
      "公共相应模态(7): [ 95 169 198 330 390 459 484]\n",
      "第194个样本：\n",
      "ID：EoC83JhkCAw$_$11; 标签：3.0; 文本：I love this space for two reasons\n",
      "公共相应模态(6): [ 95 169 330 390 459 484]\n",
      "第195个样本：\n",
      "ID：JLqBVj6f5gI$_$22; 标签：3.0; 文本：The future is bright for exploration, and we can be proud of the major step forward we are taking today.\n",
      "公共相应模态(10): [ 20  95 169 198 222 330 390 399 459 484]\n",
      "第196个样本：\n",
      "ID：12812$_$2; 标签：3.0; 文本：(umm) I really loved it, it's kind of an action movie and usually I don't like action movies that much\n",
      "公共相应模态(8): [ 20  95 169 198 330 390 459 484]\n",
      "第197个样本：\n",
      "ID：gZF-YNQHqwI$_$9; 标签：3.0; 文本：I think this is incredibly cool\n",
      "公共相应模态(8): [ 20  95 169 198 330 390 459 484]\n",
      "第198个样本：\n",
      "ID：dsob2MgUPpA$_$13; 标签：3.0; 文本：Every time I get to be a part of it, I am thankful\n",
      "公共相应模态(7): [ 95 169 198 330 390 459 484]\n",
      "第199个样本：\n",
      "ID：sWsDAG6x9n0$_$3; 标签：3.0; 文本：They are human grade quality, they're easy to feed, and, in fact, they're so good, you can use them to make your garlic bread.\n",
      "公共相应模态(6): [ 95 169 330 390 459 484]\n",
      "第200个样本：\n",
      "ID：wz3nVBPVgIA$_$8; 标签：3.0; 文本：This Black Friday and Cyber Monday 2016, I'm in the sky to scout down the biggest deals, and it's all part of a major plan coming your way\n",
      "公共相应模态(6): [ 95 169 330 390 459 484]\n",
      "第201个样本：\n",
      "ID：130633$_$10; 标签：3.0; 文本：(uhh) the actors are great, storyline is great\n",
      "公共相应模态(9): [ 20  95 169 198 330 390 399 459 484]\n",
      "第202个样本：\n",
      "ID：208416$_$10; 标签：3.0; 文本：But this is definitely a movie that you can enjoy\n",
      "公共相应模态(7): [ 95 169 198 330 390 459 484]\n",
      "第203个样本：\n",
      "ID：194625$_$3; 标签：3.0; 文本：The cast is just incredible\n",
      "公共相应模态(9): [ 20  95 169 198 330 390 399 459 484]\n",
      "第204个样本：\n",
      "ID：39lcRCFvV-s$_$7; 标签：3.0; 文本：But yeah, she said she likes the full beard better, and I like it, too, so it’s coming back\n",
      "公共相应模态(8): [ 20  95 169 198 330 390 459 484]\n",
      "第205个样本：\n",
      "ID：VDjnKdFxuBE$_$0; 标签：3.0; 文本：Well, I think the PhD program is really neat because you're not only influencing, once you become a professor, not only influencing MBA's that come through your classes.\n",
      "公共相应模态(8): [ 95 169 198 330 390 399 459 484]\n",
      "第206个样本：\n",
      "ID：hfvmQuhqMmY$_$17; 标签：3.0; 文本：Don't hesitate, give it a try, transform your life, get in the best shape ever.\n",
      "公共相应模态(6): [ 95 169 330 390 459 484]\n"
     ]
    }
   ],
   "source": [
    "# 查看 1 个类别下所有样本的三个模态激活的字典token\n",
    "for num in range(len(class_7)):\n",
    "    print(f\"第{num}个样本：\")\n",
    "    random_select_sample(class_7, num)"
   ]
  },
  {
   "cell_type": "markdown",
   "metadata": {},
   "source": [
    "## 统计不同类别激活的字典分布"
   ]
  },
  {
   "cell_type": "code",
   "execution_count": 288,
   "metadata": {},
   "outputs": [],
   "source": [
    "def get_data_table(class_tmp):\n",
    "    data_table = np.zeros((5, 512))\n",
    "\n",
    "    for data in class_tmp:\n",
    "        data_l, data_v, data_a, label, _, _ =  data\n",
    "        \n",
    "        data_l_nonzero_indices = np.nonzero(data_l)[0]\n",
    "        data_v_nonzero_indices = np.nonzero(data_v)[0]\n",
    "        data_a_nonzero_indices = np.nonzero(data_a)[0]\n",
    "\n",
    "        intersection = np.intersect1d(data_l_nonzero_indices, data_v_nonzero_indices)\n",
    "        intersection = np.intersect1d(intersection, data_a_nonzero_indices)\n",
    "\n",
    "        # union = np.union1d(data_l_nonzero_indices, data_v_nonzero_indices)\n",
    "        # union = np.union1d(union, data_a_nonzero_indices)\n",
    "\n",
    "        for x in data_l_nonzero_indices:\n",
    "            data_table[0][x] += 1\n",
    "            data_table[4][x] += 1\n",
    "        for x in data_v_nonzero_indices:\n",
    "            data_table[1][x] += 1\n",
    "            data_table[4][x] += 1\n",
    "        for x in data_a_nonzero_indices:\n",
    "            data_table[2][x] += 1\n",
    "            data_table[4][x] += 1\n",
    "        for x in intersection:\n",
    "            data_table[3][x] += 1\n",
    "        # for x in union:\n",
    "        #     data_table[4][x] += 1\n",
    "\n",
    "    return data_table\n"
   ]
  },
  {
   "cell_type": "code",
   "execution_count": 289,
   "metadata": {},
   "outputs": [],
   "source": [
    "data_table_1 = get_data_table(class_1)\n",
    "data_table_2 = get_data_table(class_2)\n",
    "data_table_3 = get_data_table(class_3)\n",
    "data_table_4 = get_data_table(class_4)\n",
    "data_table_5 = get_data_table(class_5)\n",
    "data_table_6 = get_data_table(class_6)\n",
    "data_table_7 = get_data_table(class_7)"
   ]
  },
  {
   "cell_type": "code",
   "execution_count": 290,
   "metadata": {},
   "outputs": [],
   "source": [
    "data_table_pos = get_data_table(class_pos)\n",
    "data_table_zero = get_data_table(class_zero)\n",
    "data_table_neg = get_data_table(class_neg)"
   ]
  },
  {
   "cell_type": "code",
   "execution_count": 291,
   "metadata": {},
   "outputs": [],
   "source": [
    "data_table_all = get_data_table(class_all)"
   ]
  },
  {
   "cell_type": "code",
   "execution_count": 292,
   "metadata": {},
   "outputs": [
    {
     "data": {
      "text/plain": [
       "(5, 512)"
      ]
     },
     "execution_count": 292,
     "metadata": {},
     "output_type": "execute_result"
    }
   ],
   "source": [
    "data_table_all.shape"
   ]
  },
  {
   "cell_type": "code",
   "execution_count": 295,
   "metadata": {},
   "outputs": [],
   "source": [
    "data_l_non0_index = np.nonzero(data_table_all[0])[0]\n",
    "data_v_non0_index = np.nonzero(data_table_all[1])[0]\n",
    "data_a_non0_index = np.nonzero(data_table_all[2])[0]\n",
    "data_lva_non0_index = np.nonzero(data_table_all[4])[0]"
   ]
  },
  {
   "cell_type": "code",
   "execution_count": 296,
   "metadata": {},
   "outputs": [
    {
     "data": {
      "text/plain": [
       "((99,), (141,), (148,), (199,))"
      ]
     },
     "execution_count": 296,
     "metadata": {},
     "output_type": "execute_result"
    }
   ],
   "source": [
    "data_l_non0_index.shape, data_v_non0_index.shape, data_a_non0_index.shape, data_lva_non0_index.shape"
   ]
  },
  {
   "cell_type": "code",
   "execution_count": 301,
   "metadata": {},
   "outputs": [],
   "source": [
    "x = np.union1d(data_l_non0_index, data_v_non0_index)\n",
    "x = np.union1d(x, data_a_non0_index)"
   ]
  },
  {
   "cell_type": "code",
   "execution_count": null,
   "metadata": {},
   "outputs": [],
   "source": [
    "data_lva_non0_index"
   ]
  },
  {
   "cell_type": "code",
   "execution_count": 280,
   "metadata": {},
   "outputs": [
    {
     "data": {
      "text/plain": [
       "Text(0.5, 32.249999999999986, 'Token Index')"
      ]
     },
     "execution_count": 280,
     "metadata": {},
     "output_type": "execute_result"
    },
    {
     "data": {
      "image/png": "[encoded data removed]",
      "text/plain": [
       "<Figure size 1200x600 with 2 Axes>"
      ]
     },
     "metadata": {},
     "output_type": "display_data"
    }
   ],
   "source": [
    "plt.figure(figsize=(12, 6))\n",
    "\n",
    "# 自定义颜色条范围\n",
    "# vmin = 0  # 最小值\n",
    "# vmax = 320  # 最大值\n",
    "\n",
    "# sns.heatmap(common, cmap=\"viridis\", yticklabels=['Language', 'Vision', 'Audio', 'Common'])\n",
    "\n",
    "sns.heatmap(data_table_all, cmap=\"viridis\")\n",
    "\n",
    "# plt.xticks(fontsize=5)\n",
    "plt.xlabel('Token Index')"
   ]
  },
  {
   "cell_type": "markdown",
   "metadata": {},
   "source": [
    "## 选择激活次数最多的前50个token"
   ]
  },
  {
   "cell_type": "code",
   "execution_count": 51,
   "metadata": {},
   "outputs": [],
   "source": [
    "def get_activate_token(data):\n",
    "    for idx in range(4):\n",
    "        print(np.nonzero(data[idx])[0])\n",
    "        print(f\"激活字典token数量: {len(np.nonzero(data[idx])[0])}\")"
   ]
  },
  {
   "cell_type": "code",
   "execution_count": 52,
   "metadata": {},
   "outputs": [
    {
     "data": {
      "text/plain": [
       "(5, 512)"
      ]
     },
     "execution_count": 52,
     "metadata": {},
     "output_type": "execute_result"
    }
   ],
   "source": [
    "data_table_1.shape"
   ]
  },
  {
   "cell_type": "code",
   "execution_count": 53,
   "metadata": {},
   "outputs": [
    {
     "data": {
      "text/plain": [
       "(512,)"
      ]
     },
     "execution_count": 53,
     "metadata": {},
     "output_type": "execute_result"
    }
   ],
   "source": [
    "data_table_1[0].shape"
   ]
  },
  {
   "cell_type": "code",
   "execution_count": 54,
   "metadata": {},
   "outputs": [
    {
     "name": "stdout",
     "output_type": "stream",
     "text": [
      "[  9  15  20  22  23  24  31  49  68  73  77  89  90  96  99 109 129 142\n",
      " 143 150 153 156 158 163 171 188 205 209 211 225 238 244 264 272 280 286\n",
      " 292 305 325 326 327 345 360 362 378 391 397 403 422 455 456 459 465 466\n",
      " 489 494 495 503]\n",
      "激活字典token数量: 58\n",
      "[  9  15  19  20  22  23  24  31  41  49  59  60  86  89  94  96  99 129\n",
      " 142 143 150 156 158 163 171 177 188 189 190 209 219 234 244 263 280 283\n",
      " 292 305 315 325 326 327 360 368 378 391 397 403 413 430 448 455 459 463\n",
      " 483 494 503]\n",
      "激活字典token数量: 57\n",
      "[  0   1   9  15  20  22  23  26  31  36  41  48  49  58  59  63  68  72\n",
      "  77  79  89  90  96  98  99 117 129 132 137 143 147 148 156 160 163 166\n",
      " 168 171 182 188 189 194 198 209 211 221 224 234 235 244 257 263 269 272\n",
      " 274 280 283 286 292 294 315 325 326 327 329 335 336 345 351 354 360 378\n",
      " 379 384 389 390 391 397 398 402 403 406 417 418 430 439 448 449 452 455\n",
      " 463 466 468 478 490 494 499 501 503 506 509 510]\n",
      "激活字典token数量: 102\n",
      "[  9  15  20  22  23  49  89  96  99 129 143 156 163 171 188 209 244 280\n",
      " 292 325 326 360 378 391 397 455 494 503]\n",
      "激活字典token数量: 28\n"
     ]
    }
   ],
   "source": [
    "# 获取类别下三种模态激活的字典token分布\n",
    "get_activate_token(data_table_1)"
   ]
  },
  {
   "cell_type": "code",
   "execution_count": 352,
   "metadata": {},
   "outputs": [],
   "source": [
    "def top_k_max(arr, k=50):\n",
    "    # 一个示例的一维numpy数组\n",
    "    # arr = np.array([10, 5, 8, 20, 3, 15])\n",
    "\n",
    "    # 获取前k个最大值的下标\n",
    "    top_k_indices = np.argsort(-arr)[:k]\n",
    "\n",
    "    # print(\"前\", k, \"个最大值的下标:\", end=\"\")\n",
    "    return top_k_indices"
   ]
  },
  {
   "cell_type": "code",
   "execution_count": 353,
   "metadata": {},
   "outputs": [
    {
     "data": {
      "text/plain": [
       "array([9, 8, 7, 6, 5])"
      ]
     },
     "execution_count": 353,
     "metadata": {},
     "output_type": "execute_result"
    }
   ],
   "source": [
    "# test the top_k function\n",
    "x = np.array([1, 2, 3, 4, 5, 6, 7, 8, 9, 10])\n",
    "top_k_max(x, k = 5)"
   ]
  },
  {
   "cell_type": "code",
   "execution_count": 354,
   "metadata": {},
   "outputs": [],
   "source": [
    "lva_topk_all = top_k_max(data_table_all[4])"
   ]
  },
  {
   "cell_type": "code",
   "execution_count": 355,
   "metadata": {},
   "outputs": [
    {
     "data": {
      "text/plain": [
       "array([280, 143, 397,  96, 455, 459, 360,  89, 345, 508, 156, 283, 463,\n",
       "       292,  85,  23, 403, 378,  20, 494, 109, 189, 368, 275, 468, 305,\n",
       "       168, 129, 272,   9,  94, 153,  22, 170, 398, 389, 503,  24, 495,\n",
       "        63,  49, 150, 171, 213, 142, 391, 325, 197, 221, 422])"
      ]
     },
     "execution_count": 355,
     "metadata": {},
     "output_type": "execute_result"
    }
   ],
   "source": [
    "lva_topk_all"
   ]
  },
  {
   "cell_type": "code",
   "execution_count": 356,
   "metadata": {},
   "outputs": [
    {
     "data": {
      "text/plain": [
       "array([32088, 31648, 30370, 29842, 29481, 29129, 25476, 25425, 25064,\n",
       "       24885, 24198, 21926, 21369, 19936, 19356, 18865, 18526, 18148,\n",
       "       17952, 17892, 17550, 17006, 16481, 15946, 15427, 14904, 14800,\n",
       "       14480, 14145, 14124, 13858, 13857, 13567, 13135, 12915, 12598,\n",
       "       12263, 11936, 11271, 10315,  9647,  8781,  8498,  7888,  7451,\n",
       "        7245,  6763,  6415,  5751,  5658])"
      ]
     },
     "execution_count": 356,
     "metadata": {},
     "output_type": "execute_result"
    }
   ],
   "source": [
    "data_table_all[4][lva_topk_all].astype(int)"
   ]
  },
  {
   "cell_type": "code",
   "execution_count": 357,
   "metadata": {},
   "outputs": [],
   "source": [
    "l_all = data_table_all[0][lva_topk_all].astype(int)\n",
    "l_all = l_all[np.newaxis,:]\n",
    "\n",
    "v_all = data_table_all[1][lva_topk_all].astype(int)\n",
    "v_all = v_all[np.newaxis,:]\n",
    "\n",
    "a_all = data_table_all[2][lva_topk_all].astype(int)\n",
    "a_all = a_all[np.newaxis,:]"
   ]
  },
  {
   "cell_type": "code",
   "execution_count": 358,
   "metadata": {},
   "outputs": [],
   "source": [
    "lva_all = np.concatenate((l_all, v_all, a_all), axis=0)"
   ]
  },
  {
   "cell_type": "code",
   "execution_count": 392,
   "metadata": {},
   "outputs": [],
   "source": [
    "def get_m_all(index):\n",
    "    l_class_1 = data_table_1[index][lva_topk_all].astype(int)\n",
    "    l_class_1 = l_class_1[np.newaxis,:]\n",
    "\n",
    "    l_class_2 = data_table_2[index][lva_topk_all].astype(int)\n",
    "    l_class_2 = l_class_2[np.newaxis,:]\n",
    "\n",
    "    l_class_3 = data_table_3[index][lva_topk_all].astype(int)\n",
    "    l_class_3 = l_class_3[np.newaxis,:]\n",
    "\n",
    "    l_class_4 = data_table_4[index][lva_topk_all].astype(int)\n",
    "    l_class_4 = l_class_4[np.newaxis,:]\n",
    "\n",
    "    l_class_5 = data_table_5[index][lva_topk_all].astype(int)\n",
    "    l_class_5 = l_class_5[np.newaxis,:]\n",
    "\n",
    "    l_class_6 = data_table_6[index][lva_topk_all].astype(int)\n",
    "    l_class_6 = l_class_6[np.newaxis,:]\n",
    "\n",
    "    l_class_7 = data_table_7[index][lva_topk_all].astype(int)\n",
    "    l_class_7 = l_class_7[np.newaxis,:]\n",
    "\n",
    "    l_all = np.concatenate((l_class_7, l_class_6, l_class_5, l_class_4, l_class_3, l_class_2, l_class_1), axis=0)\n",
    "    return l_all"
   ]
  },
  {
   "cell_type": "code",
   "execution_count": 393,
   "metadata": {},
   "outputs": [],
   "source": [
    "l_all = get_m_all(0)\n",
    "v_all = get_m_all(1)\n",
    "a_all = get_m_all(2)"
   ]
  },
  {
   "cell_type": "code",
   "execution_count": 394,
   "metadata": {},
   "outputs": [],
   "source": [
    "lva_all = np.concatenate((l_all, v_all, a_all), axis=0)"
   ]
  },
  {
   "cell_type": "code",
   "execution_count": 427,
   "metadata": {},
   "outputs": [
    {
     "data": {
      "image/png": "[encoded data removed]",
      "text/plain": [
       "<Figure size 1200x800 with 3 Axes>"
      ]
     },
     "metadata": {},
     "output_type": "display_data"
    }
   ],
   "source": [
    "plt.figure(figsize = (12, 8))\n",
    "\n",
    "# 自定义颜色条范围\n",
    "vmin = 0  # 最小值\n",
    "vmax = 7000  # 最大值\n",
    "\n",
    "# sns.heatmap(common, cmap=\"viridis\", yticklabels=['Language', 'Vision', 'Audio', 'Common'])\n",
    "plt.subplot(311) # 第一个画板的第一个子图\n",
    "ax1 = sns.heatmap(l_all, cmap=\"viridis\",square=True,\n",
    "                xticklabels=lva_topk_all,\n",
    "                yticklabels=['+3', '+2', '+1', '0', '-1', '-2', '-3'],\n",
    "                vmax=vmax, vmin=vmin,\n",
    "                cbar=False)\n",
    "\n",
    "ax1.xaxis.tick_bottom()\n",
    "ax1.yaxis.tick_left()\n",
    "ax1.title.set_text('Language Modality')\n",
    "\n",
    "plt.subplot(312) # 第一个画板的第二个子图\n",
    "\n",
    "# 自定义颜色条范围\n",
    "vmin = 0  # 最小值\n",
    "vmax = 7000  # 最大值\n",
    "\n",
    "# sns.heatmap(common, cmap=\"viridis\", yticklabels=['Language', 'Vision', 'Audio', 'Common'])\n",
    "\n",
    "ax1 = sns.heatmap(v_all, cmap=\"viridis\",square=True,\n",
    "                xticklabels=lva_topk_all,\n",
    "                yticklabels=['+3', '+2', '+1', '0', '-1', '-2', '-3'],\n",
    "                vmax=vmax, vmin=vmin,\n",
    "                cbar=False)\n",
    "\n",
    "ax1.xaxis.tick_bottom()\n",
    "ax1.yaxis.tick_left()\n",
    "ax1.title.set_text('Vision Modality')\n",
    "\n",
    "plt.subplot(313) # 第一个画板的第二个子图\n",
    "\n",
    "# 自定义颜色条范围\n",
    "vmin = 0  # 最小值\n",
    "vmax = 7000  # 最大值\n",
    "\n",
    "# sns.heatmap(common, cmap=\"viridis\", yticklabels=['Language', 'Vision', 'Audio', 'Common'])\n",
    "\n",
    "ax1 = sns.heatmap(a_all, cmap=\"viridis\",square=True,\n",
    "                xticklabels=lva_topk_all,\n",
    "                yticklabels=['+3', '+2', '+1', '0', '-1', '-2', '-3'],\n",
    "                vmax=vmax, vmin=vmin,\n",
    "                cbar=False)\n",
    "\n",
    "ax1.xaxis.tick_bottom()\n",
    "ax1.yaxis.tick_left()\n",
    "ax1.title.set_text('Acoustic Modality')"
   ]
  },
  {
   "cell_type": "code",
   "execution_count": 418,
   "metadata": {},
   "outputs": [
    {
     "data": {
      "text/plain": [
       "array([  4,   4,   2,   1,   2,   2,   2,   0,   2,   4,   2,  77,  38,\n",
       "         0,   2,   0,   1,   0,   0,   0,   0,   0,   0,   0,   6,   0,\n",
       "       205,   0,   0,   2, 207,   2,   0,   6,  81, 207,   2,   2,   0,\n",
       "         0,   0,   0,   0,   0,   0,   0,   1, 112,  49,   0])"
      ]
     },
     "execution_count": 418,
     "metadata": {},
     "output_type": "execute_result"
    }
   ],
   "source": [
    "a_all[0]"
   ]
  },
  {
   "cell_type": "code",
   "execution_count": 234,
   "metadata": {},
   "outputs": [],
   "source": [
    "l_topk_pos = top_k_max(data_table_pos[0])\n",
    "v_topk_pos = top_k_max(data_table_pos[1])\n",
    "a_topk_pos = top_k_max(data_table_pos[2])\n",
    "c_topk_pos = top_k_max(data_table_pos[3])"
   ]
  },
  {
   "cell_type": "code",
   "execution_count": 235,
   "metadata": {},
   "outputs": [],
   "source": [
    "def check_topk(data_table):\n",
    "    l_topk = top_k_max(data_table[0])\n",
    "    v_topk = top_k_max(data_table[1])\n",
    "    a_topk = top_k_max(data_table[2])\n",
    "    c_topk = top_k_max(data_table[3])\n",
    "    print(\"Language:\", l_topk)\n",
    "    print(\"Vision:\", v_topk)\n",
    "    print(\"Audio:\", a_topk)\n",
    "    print(\"Common:\", c_topk)\n",
    "    intersection = np.intersect1d(l_topk, v_topk)\n",
    "    intersection = np.intersect1d(intersection, a_topk)\n",
    "    print(\"Intersection:\", intersection)\n",
    "    print(\"Intersection:\", len(intersection))"
   ]
  },
  {
   "cell_type": "code",
   "execution_count": 236,
   "metadata": {},
   "outputs": [
    {
     "name": "stdout",
     "output_type": "stream",
     "text": [
      "Language: [283 463 508 468 368 280 143 275 345  85 168 389  94 398  96]\n",
      "Vision: [283 168 508 463 280 143 368  94 459 213  96 389 398 345  85]\n",
      "Audio: [283 463 508 468 280 170 143 398 345  85 168  96 389 459  94]\n",
      "Common: [283 508 280 143 463 168 389  96 398 459  85 345  94 468 275]\n",
      "Intersection: [ 85  94  96 143 168 280 283 345 389 398 463 508]\n",
      "Intersection: 12\n"
     ]
    }
   ],
   "source": [
    "check_topk(data_table_pos)"
   ]
  },
  {
   "cell_type": "code",
   "execution_count": 237,
   "metadata": {},
   "outputs": [
    {
     "name": "stdout",
     "output_type": "stream",
     "text": [
      "Language: [503  22 129  49 378 403 325 171 189  15 391 292 156  23 163]\n",
      "Vision: [ 22 129 503 378 403  49 171 189 391 163 292 156 325  23  15]\n",
      "Audio: [ 22 129 503  49 378 403 391 171 189 292  23  15 325 163 156]\n",
      "Common: [ 22 129 503 378  49 403 189 171 292 325 156  23 391  15 163]\n",
      "Intersection: [ 15  22  23  49 129 156 163 171 189 292 325 378 391 403 503]\n",
      "Intersection: 15\n"
     ]
    }
   ],
   "source": [
    "check_topk(data_table_neg)"
   ]
  },
  {
   "cell_type": "code",
   "execution_count": 238,
   "metadata": {},
   "outputs": [
    {
     "name": "stdout",
     "output_type": "stream",
     "text": [
      "Language: [ 31  22 286  15 244 188 503 209 171 158 163 391 326 456 238]\n",
      "Vision: [171  15 326 188 448 209 327 430 234  99 315  86 503 244  22]\n",
      "Audio: [ 22  15 171 503 315 430 234 188  99  77 209 326  68 274 466]\n",
      "Common: [171  15 188 209 326 503  22 244 391 129  49 163 325 378  23]\n",
      "Intersection: [ 15  22 171 188 209 326 503]\n",
      "Intersection: 7\n"
     ]
    }
   ],
   "source": [
    "check_topk(data_table_1)"
   ]
  },
  {
   "cell_type": "code",
   "execution_count": 239,
   "metadata": {},
   "outputs": [
    {
     "name": "stdout",
     "output_type": "stream",
     "text": [
      "Language: [ 22 503 171  15  49 391 129 325 163 378 286 403 209 158 188]\n",
      "Vision: [171  22 503 129  49 391 325 163 378 403  15 189 315 234 448]\n",
      "Audio: [ 22 503 171  15 129 163 391  49 325 378 403 430 315 189 292]\n",
      "Common: [ 22 503 171 129  49 391 325  15 378 163 403 189 188 209 326]\n",
      "Intersection: [ 15  22  49 129 163 171 325 378 391 403 503]\n",
      "Intersection: 11\n"
     ]
    }
   ],
   "source": [
    "check_topk(data_table_2)"
   ]
  },
  {
   "cell_type": "code",
   "execution_count": 240,
   "metadata": {},
   "outputs": [
    {
     "name": "stdout",
     "output_type": "stream",
     "text": [
      "Language: [403 378 129 189 292 156  23  49 503  22 325 171 455 360 397]\n",
      "Vision: [378 403 189 129 292 156  22  49  23 503 360 391 163 171 455]\n",
      "Audio: [378 129 292 403 189  22  23  49 503 156 391 171 455 360 325]\n",
      "Common: [403 378 129 189 292  22 156  49  23 503 171 455 360 325 397]\n",
      "Intersection: [ 22  23  49 129 156 171 189 292 360 378 403 455 503]\n",
      "Intersection: 13\n"
     ]
    }
   ],
   "source": [
    "check_topk(data_table_3)"
   ]
  },
  {
   "cell_type": "code",
   "execution_count": 241,
   "metadata": {},
   "outputs": [
    {
     "name": "stdout",
     "output_type": "stream",
     "text": [
      "Language: [397 455 360  89 156  96 459 494 280  20 345  24 143 305 272]\n",
      "Vision: [397 455  89 360  96 459 280 143 156 150 494   9 305  23 292]\n",
      "Audio: [397 455 360  89 156 143 345 280  96 459  63  20 109 494  23]\n",
      "Common: [397 455  89 360 156 280  96 459 143  23 292 494   9 305 508]\n",
      "Intersection: [ 89  96 143 156 280 360 397 455 459 494]\n",
      "Intersection: 10\n"
     ]
    }
   ],
   "source": [
    "check_topk(data_table_4)"
   ]
  },
  {
   "cell_type": "code",
   "execution_count": 242,
   "metadata": {},
   "outputs": [
    {
     "name": "stdout",
     "output_type": "stream",
     "text": [
      "Language: [280 143 345 463 283 508 368  85 468 275  96 459 272 168 109]\n",
      "Vision: [143 280 508 283 459  96 168 213 463  85 124 407 275 397 368]\n",
      "Audio: [280 143 345  96  85 508 459 283 463 468 170 398  63 397 168]\n",
      "Common: [143 280 508 283  96 463 459  85 345 275 168 389 368 397 468]\n",
      "Intersection: [ 85  96 143 168 280 283 459 463 508]\n",
      "Intersection: 9\n"
     ]
    }
   ],
   "source": [
    "check_topk(data_table_5)"
   ]
  },
  {
   "cell_type": "code",
   "execution_count": 243,
   "metadata": {},
   "outputs": [
    {
     "name": "stdout",
     "output_type": "stream",
     "text": [
      "Language: [398 389  94 168 283 463 329 170 508 468 501 392 368 275 197]\n",
      "Vision: [283 168 389 463  94 398 413 197 221 368 329  59 508 483 170]\n",
      "Audio: [168 389 197 398 221 283 501 463  94 170 468 508 280 143 345]\n",
      "Common: [389 168 398  94 283 463 508 170 197 280 143 501 468 221 345]\n",
      "Intersection: [ 94 168 170 197 283 389 398 463 508]\n",
      "Intersection: 9\n"
     ]
    }
   ],
   "source": [
    "check_topk(data_table_6)"
   ]
  },
  {
   "cell_type": "code",
   "execution_count": 244,
   "metadata": {},
   "outputs": [
    {
     "name": "stdout",
     "output_type": "stream",
     "text": [
      "Language: [458  94 398 106 501 389 392 197 168 483 329 477 221 316  65]\n",
      "Vision: [463 283 197  19 389 413 398 221 483 329   8  94  59 168 458]\n",
      "Audio: [389  94 329 168 458 483 106   2  12 237   8 435  40 477 197]\n",
      "Common: [389  94 329 168 483 458 197  19 398 221 283 463 501 170 508]\n",
      "Intersection: [ 94 168 197 329 389 458 483]\n",
      "Intersection: 7\n"
     ]
    }
   ],
   "source": [
    "check_topk(data_table_7)"
   ]
  },
  {
   "cell_type": "code",
   "execution_count": 229,
   "metadata": {},
   "outputs": [],
   "source": [
    "def get_topk_by_modality(data_table):\n",
    "    l_topk = top_k_max(data_table[0])\n",
    "    v_topk = top_k_max(data_table[1])\n",
    "    a_topk = top_k_max(data_table[2])\n",
    "    union = np.union1d(l_topk, v_topk)\n",
    "    union = np.union1d(union, a_topk)\n",
    "    print(union, len(union))\n",
    "    print(data_table[0][union].astype(int))\n",
    "    print(data_table[1][union].astype(int))\n",
    "    print(data_table[2][union].astype(int))"
   ]
  },
  {
   "cell_type": "code",
   "execution_count": 231,
   "metadata": {},
   "outputs": [
    {
     "name": "stdout",
     "output_type": "stream",
     "text": [
      "[ 85  94  96 143 168 170 213 275 280 283 345 368 389 398 459 463 468 508] 18\n",
      "[4384 4012 3721 4907 4130 2961 2127 4856 4986 5481 4722 5022 4018 3933\n",
      " 3391 5470 5024 5193]\n",
      "[3430 4481 4124 5020 5661 3426 4136 3309 5022 5852 3476 4520 4077 3892\n",
      " 4136 5245 2749 5274]\n",
      "[4844 4076 4643 5134 4644 5163    0 2697 5299 5703 4878 2833 4417 4993\n",
      " 4369 5528 5309 5320]\n"
     ]
    }
   ],
   "source": [
    "get_topk_by_modality(data_table_pos)"
   ]
  },
  {
   "cell_type": "code",
   "execution_count": 43,
   "metadata": {},
   "outputs": [
    {
     "name": "stdout",
     "output_type": "stream",
     "text": [
      "前 15 个最大值的下标:前 15 个最大值的下标:前 15 个最大值的下标:前 15 个最大值的下标:"
     ]
    }
   ],
   "source": [
    "l_topk_neg = top_k_max(data_table_neg[0])\n",
    "v_topk_neg = top_k_max(data_table_neg[1])\n",
    "a_topk_neg = top_k_max(data_table_neg[2])\n",
    "c_topk_neg = top_k_max(data_table_neg[3])"
   ]
  },
  {
   "cell_type": "code",
   "execution_count": 55,
   "metadata": {},
   "outputs": [
    {
     "data": {
      "text/plain": [
       "array([ 22, 129, 503, 378,  49, 403, 189, 171, 292, 325, 156,  23, 391,\n",
       "        15, 163])"
      ]
     },
     "execution_count": 55,
     "metadata": {},
     "output_type": "execute_result"
    }
   ],
   "source": [
    "c_topk_neg"
   ]
  },
  {
   "cell_type": "code",
   "execution_count": 44,
   "metadata": {},
   "outputs": [
    {
     "name": "stdout",
     "output_type": "stream",
     "text": [
      "[ 15  22  23  49 129 156 163 171 189 292 325 378 391 403 503] 15\n",
      "[2040 3316 1756 3190 3297 1960 1400 2670 2569 1974 2826 3106 1975 2880\n",
      " 3337]\n",
      "[1422 3609 1734 3100 3310 2166 2371 2705 2534 2220 1994 3170 2401 3167\n",
      " 3210]\n",
      "[1947 3641 1976 3273 3553 1718 1797 2556 2543 2529 1874 3166 2827 3058\n",
      " 3504]\n"
     ]
    }
   ],
   "source": [
    "get_topk_by_modality(l_topk_neg, v_topk_neg, a_topk_neg, data_table_neg)"
   ]
  },
  {
   "cell_type": "code",
   "execution_count": 45,
   "metadata": {},
   "outputs": [],
   "source": [
    "l_topk = l_topk_neg\n",
    "v_topk = v_topk_neg\n",
    "a_topk = a_topk_neg\n",
    "data_table = data_table_neg"
   ]
  },
  {
   "cell_type": "code",
   "execution_count": 46,
   "metadata": {},
   "outputs": [
    {
     "data": {
      "text/plain": [
       "(array([ 15,  22,  23,  49, 129, 156, 163, 171, 189, 292, 325, 378, 391,\n",
       "        403, 503]),\n",
       " 15)"
      ]
     },
     "execution_count": 46,
     "metadata": {},
     "output_type": "execute_result"
    }
   ],
   "source": [
    "union = np.union1d(l_topk, v_topk)\n",
    "union = np.union1d(union, a_topk)\n",
    "union, len(union)"
   ]
  },
  {
   "cell_type": "code",
   "execution_count": 47,
   "metadata": {},
   "outputs": [
    {
     "data": {
      "text/plain": [
       "array([2040, 3316, 1756, 3190, 3297, 1960, 1400, 2670, 2569, 1974, 2826,\n",
       "       3106, 1975, 2880, 3337])"
      ]
     },
     "execution_count": 47,
     "metadata": {},
     "output_type": "execute_result"
    }
   ],
   "source": [
    "data_table[0][union].astype(int)"
   ]
  },
  {
   "cell_type": "code",
   "execution_count": 48,
   "metadata": {},
   "outputs": [
    {
     "data": {
      "text/plain": [
       "array([1422, 3609, 1734, 3100, 3310, 2166, 2371, 2705, 2534, 2220, 1994,\n",
       "       3170, 2401, 3167, 3210])"
      ]
     },
     "execution_count": 48,
     "metadata": {},
     "output_type": "execute_result"
    }
   ],
   "source": [
    "data_table[1][union].astype(int)"
   ]
  },
  {
   "cell_type": "code",
   "execution_count": 49,
   "metadata": {},
   "outputs": [
    {
     "data": {
      "text/plain": [
       "array([1947, 3641, 1976, 3273, 3553, 1718, 1797, 2556, 2543, 2529, 1874,\n",
       "       3166, 2827, 3058, 3504])"
      ]
     },
     "execution_count": 49,
     "metadata": {},
     "output_type": "execute_result"
    }
   ],
   "source": [
    "data_table[2][union].astype(int)"
   ]
  },
  {
   "cell_type": "code",
   "execution_count": 54,
   "metadata": {},
   "outputs": [
    {
     "data": {
      "text/plain": [
       "array([1418, 3287, 1657, 2893, 3260, 1701,  971, 2447, 2468, 1955, 1714,\n",
       "       3076, 1560, 2865, 3110])"
      ]
     },
     "execution_count": 54,
     "metadata": {},
     "output_type": "execute_result"
    }
   ],
   "source": [
    "data_table[3][union].astype(int)"
   ]
  },
  {
   "cell_type": "code",
   "execution_count": 50,
   "metadata": {},
   "outputs": [],
   "source": [
    "def get_intersect(m1, m2):\n",
    "    m12 = np.intersect1d(m1, m2)\n",
    "    print(f\"m1 与 m2 的交集: {m12}\")\n",
    "    print(f\"The length: {len(m12)}\")"
   ]
  },
  {
   "cell_type": "code",
   "execution_count": 51,
   "metadata": {},
   "outputs": [
    {
     "name": "stdout",
     "output_type": "stream",
     "text": [
      "m1 与 m2 的交集: [ 85  94  96 143 168 280 283 345 368 389 398 463 508]\n",
      "The length: 13\n",
      "m1 与 m2 的交集: [ 85  94  96 143 168 280 283 345 389 398 463 468 508]\n",
      "The length: 13\n",
      "m1 与 m2 的交集: [ 85  94  96 143 168 280 283 345 389 398 459 463 508]\n",
      "The length: 13\n"
     ]
    }
   ],
   "source": [
    "get_intersect(l_topk_pos, v_topk_pos)\n",
    "get_intersect(l_topk_pos, a_topk_pos)\n",
    "get_intersect(v_topk_pos, a_topk_pos)"
   ]
  },
  {
   "cell_type": "code",
   "execution_count": 52,
   "metadata": {},
   "outputs": [
    {
     "name": "stdout",
     "output_type": "stream",
     "text": [
      "m1 与 m2 的交集: [ 15  22  23  49 129 156 163 171 189 292 325 378 391 403 503]\n",
      "The length: 15\n",
      "m1 与 m2 的交集: [ 15  22  23  49 129 156 163 171 189 292 325 378 391 403 503]\n",
      "The length: 15\n",
      "m1 与 m2 的交集: [ 15  22  23  49 129 156 163 171 189 292 325 378 391 403 503]\n",
      "The length: 15\n"
     ]
    }
   ],
   "source": [
    "get_intersect(l_topk_neg, v_topk_neg)\n",
    "get_intersect(l_topk_neg, a_topk_neg)\n",
    "get_intersect(v_topk_neg, a_topk_neg)"
   ]
  },
  {
   "cell_type": "code",
   "execution_count": 53,
   "metadata": {},
   "outputs": [
    {
     "name": "stdout",
     "output_type": "stream",
     "text": [
      "m1 与 m2 的交集: []\n",
      "The length: 0\n",
      "m1 与 m2 的交集: []\n",
      "The length: 0\n",
      "m1 与 m2 的交集: []\n",
      "The length: 0\n"
     ]
    }
   ],
   "source": [
    "get_intersect(l_topk_pos, l_topk_neg)\n",
    "get_intersect(v_topk_pos, v_topk_neg)\n",
    "get_intersect(a_topk_pos, a_topk_neg)"
   ]
  },
  {
   "cell_type": "code",
   "execution_count": null,
   "metadata": {},
   "outputs": [],
   "source": []
  },
  {
   "cell_type": "code",
   "execution_count": 184,
   "metadata": {},
   "outputs": [
    {
     "data": {
      "text/plain": [
       "Text(0.5, 32.249999999999986, 'Token Index')"
      ]
     },
     "execution_count": 184,
     "metadata": {},
     "output_type": "execute_result"
    },
    {
     "data": {
      "image/png": "[encoded data removed]",
      "text/plain": [
       "<Figure size 2400x600 with 2 Axes>"
      ]
     },
     "metadata": {},
     "output_type": "display_data"
    }
   ],
   "source": [
    "plt.figure(figsize=(24, 6))\n",
    "\n",
    "# 自定义颜色条范围\n",
    "# vmin = 0  # 最小值\n",
    "# vmax = 320  # 最大值\n",
    "\n",
    "sns.heatmap(data_table_6[:4,:], cmap=\"viridis\",\n",
    "            yticklabels=['Language', 'Vision', 'Audio', 'Common'],\n",
    "            linewidths=0.5, linecolor='grey')\n",
    "\n",
    "# plt.xticks(fontsize=5)\n",
    "plt.xlabel('Token Index')"
   ]
  },
  {
   "cell_type": "code",
   "execution_count": 122,
   "metadata": {},
   "outputs": [
    {
     "data": {
      "text/plain": [
       "Text(0.5, 32.249999999999986, 'Token Index')"
      ]
     },
     "execution_count": 122,
     "metadata": {},
     "output_type": "execute_result"
    },
    {
     "data": {
      "image/png": "[encoded data removed]",
      "text/plain": [
       "<Figure size 2400x600 with 2 Axes>"
      ]
     },
     "metadata": {},
     "output_type": "display_data"
    }
   ],
   "source": [
    "data_view = data_table_7\n",
    "\n",
    "plt.figure(figsize=(24, 6))\n",
    "\n",
    "# 自定义颜色条范围\n",
    "vmin = 0  # 最小值\n",
    "vmax = 320  # 最大值\n",
    "\n",
    "sns.heatmap(data_view[:4], cmap=\"viridis\", xticklabels=unique_array, yticklabels=['Language', 'Vision', 'Audio', 'Common'],\n",
    "            linewidths=0.5, linecolor='grey')\n",
    "\n",
    "plt.xticks(fontsize=5)\n",
    "plt.xlabel('Token Index')"
   ]
  }
 ],
 "metadata": {
  "kernelspec": {
   "display_name": "mmsa",
   "language": "python",
   "name": "python3"
  },
  "language_info": {
   "codemirror_mode": {
    "name": "ipython",
    "version": 3
   },
   "file_extension": ".py",
   "mimetype": "text/x-python",
   "name": "python",
   "nbconvert_exporter": "python",
   "pygments_lexer": "ipython3",
   "version": "3.8.8"
  }
 },
 "nbformat": 4,
 "nbformat_minor": 2
}
